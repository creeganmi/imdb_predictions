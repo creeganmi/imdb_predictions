{
 "cells": [
  {
   "cell_type": "code",
   "execution_count": 15,
   "id": "89f307d0",
   "metadata": {},
   "outputs": [],
   "source": [
    "from sklearn.decomposition import PCA\n",
    "from sklearn.preprocessing import StandardScaler\n",
    "import plotly.express as px\n",
    "from sklearn.preprocessing import MinMaxScaler\n",
    "from sklearn.pipeline import Pipeline\n",
    "import operator\n",
    "from collections import Counter\n",
    "from imblearn.over_sampling import SMOTE\n",
    "\n",
    "# standard libraries\n",
    "import numpy as np\n",
    "import pandas as pd\n",
    "import matplotlib as plt\n",
    "from statistics import mean\n",
    "from sklearn.preprocessing import StandardScaler\n",
    "from sklearn.model_selection import KFold, GridSearchCV, RandomizedSearchCV, train_test_split\n",
    "from sklearn.pipeline import Pipeline\n",
    "from sklearn.metrics import confusion_matrix\n",
    "from sklearn.metrics import ConfusionMatrixDisplay\n",
    "from sklearn.metrics import accuracy_score, roc_auc_score, f1_score, mean_absolute_error, mean_squared_error, r2_score, explained_variance_score, precision_score, recall_score, f1_score\n",
    "from sklearn.model_selection import cross_validate, train_test_split\n",
    "from numpy import mean\n",
    "from numpy import std\n",
    "from sklearn.datasets import make_classification\n",
    "from sklearn.linear_model import Lasso\n",
    "from sklearn.feature_selection import SelectKBest, chi2, f_classif, mutual_info_classif\n",
    "\n",
    "# classification\n",
    "from sklearn.linear_model import LogisticRegression\n",
    "from sklearn.tree import DecisionTreeClassifier\n",
    "from sklearn.naive_bayes import GaussianNB\n",
    "from sklearn.svm import SVC\n",
    "from sklearn.ensemble import RandomForestClassifier, GradientBoostingClassifier\n",
    "from catboost import CatBoostClassifier\n",
    "from sklearn.feature_selection import RFE\n",
    "from sklearn.metrics import make_scorer\n",
    "from sklearn.neighbors import KNeighborsClassifier\n",
    "from sklearn.neural_network import MLPClassifier\n",
    "\n",
    "\n",
    "# nn\n",
    "import keras\n",
    "import tensorflow as tf\n",
    "from keras.models import Sequential\n",
    "from keras.layers import Dense,  BatchNormalization, Flatten, Dropout, Activation\n",
    "from keras.callbacks import EarlyStopping, ModelCheckpoint\n",
    "from keras.optimizers import SGD\n",
    "from keras.wrappers.scikit_learn import KerasRegressor\n",
    "from sklearn.model_selection import cross_val_score\n",
    "from sklearn.metrics import classification_report\n",
    "from keras.regularizers import l2\n",
    "from tensorflow.keras.callbacks import ReduceLROnPlateau\n",
    "\n",
    "\n",
    "# visualize\n",
    "import matplotlib.pyplot as plt\n",
    "from matplotlib import pyplot\n",
    "\n",
    "# never forget to supress warnings\n",
    "import warnings\n",
    "warnings.filterwarnings('ignore')"
   ]
  },
  {
   "cell_type": "code",
   "execution_count": 17,
   "id": "ca085cc0",
   "metadata": {},
   "outputs": [],
   "source": [
    "df = pd.read_csv('movies_final.csv', index_col=0)"
   ]
  },
  {
   "cell_type": "code",
   "execution_count": 19,
   "id": "9d90083f",
   "metadata": {},
   "outputs": [],
   "source": [
    "col = 'averageRating'\n",
    "\n",
    "conditions = [\n",
    "    df[col].between(0,2),\n",
    "    df[col].between(2,4),\n",
    "    df[col].between(4,6),\n",
    "    df[col].between(6,8),\n",
    "    df[col].between(8,10)\n",
    "]\n",
    "\n",
    "ranks = ['rank1', 'rank2', 'rank3','rank4', 'rank5']\n",
    "df['ratingClass'] = np.select(conditions, ranks, default=np.nan)\n",
    "df['ratingClass'] = df['ratingClass'].astype('category').cat.codes"
   ]
  },
  {
   "cell_type": "code",
   "execution_count": 21,
   "id": "9f92e408",
   "metadata": {},
   "outputs": [],
   "source": [
    "X = df.drop(columns=['averageRating', 'ratingClass', 'tconst', 'primaryTitle'])\n",
    "y = df[['ratingClass']]\n",
    "y = tf.keras.utils.to_categorical(y)"
   ]
  },
  {
   "cell_type": "code",
   "execution_count": 24,
   "id": "398d1d4e",
   "metadata": {},
   "outputs": [],
   "source": [
    "X_train, X_test, y_train, y_test = train_test_split(X, y, test_size=0.2, random_state=42)"
   ]
  },
  {
   "cell_type": "markdown",
   "id": "7a010a8c",
   "metadata": {},
   "source": [
    "# Feature Selection"
   ]
  },
  {
   "cell_type": "code",
   "execution_count": 26,
   "id": "032dd763",
   "metadata": {},
   "outputs": [],
   "source": [
    "# pipeline = Pipeline([\n",
    "#                      ('scaler',StandardScaler()),\n",
    "#                      ('model',Lasso())\n",
    "# ])"
   ]
  },
  {
   "cell_type": "code",
   "execution_count": 28,
   "id": "bc3d4eb6",
   "metadata": {},
   "outputs": [],
   "source": [
    "# search = GridSearchCV(pipeline,\n",
    "#                       {'model__alpha':np.arange(0.1,10,0.1)},\n",
    "#                       cv = 5, scoring=\"neg_mean_squared_error\",verbose=3\n",
    "#                       )"
   ]
  },
  {
   "cell_type": "code",
   "execution_count": null,
   "id": "f05f79d9",
   "metadata": {
    "scrolled": true
   },
   "outputs": [],
   "source": [
    "# search.fit(X_train,y_train)"
   ]
  },
  {
   "cell_type": "code",
   "execution_count": null,
   "id": "f9d4cb47",
   "metadata": {},
   "outputs": [],
   "source": [
    "# search.best_params_"
   ]
  },
  {
   "cell_type": "code",
   "execution_count": null,
   "id": "399bad60",
   "metadata": {},
   "outputs": [],
   "source": [
    "# coefficients = search.best_estimator_.named_steps['model'].coef_"
   ]
  },
  {
   "cell_type": "code",
   "execution_count": null,
   "id": "44a561aa",
   "metadata": {},
   "outputs": [],
   "source": [
    "# importance = np.abs(coefficients)"
   ]
  },
  {
   "cell_type": "code",
   "execution_count": null,
   "id": "0dd07a0c",
   "metadata": {},
   "outputs": [],
   "source": [
    "# features = X.columns"
   ]
  },
  {
   "cell_type": "code",
   "execution_count": null,
   "id": "f4cd3a3c",
   "metadata": {},
   "outputs": [],
   "source": [
    "# np.array(features)[importance > 0]"
   ]
  },
  {
   "cell_type": "code",
   "execution_count": null,
   "id": "a5a7c002",
   "metadata": {
    "scrolled": true
   },
   "outputs": [],
   "source": [
    "# np.array(features)[importance == 0]"
   ]
  },
  {
   "cell_type": "code",
   "execution_count": null,
   "id": "be968bd0",
   "metadata": {},
   "outputs": [],
   "source": [
    "# np.array(features)[importance != 0]"
   ]
  },
  {
   "cell_type": "markdown",
   "id": "df074728",
   "metadata": {},
   "source": [
    "Chi-sq test for feature selection: The results of this test can be used for feature selection, where those features that are independent of the target variable can be removed from the dataset."
   ]
  },
  {
   "cell_type": "code",
   "execution_count": null,
   "id": "e55f2d7a",
   "metadata": {},
   "outputs": [],
   "source": [
    "# fs = SelectKBest(score_func=chi2, k='all')\n",
    "# fs.fit(X_train, y_train)\n",
    "# X_train_fs = fs.transform(X_train)\n",
    "# X_test_fs = fs.transform(X_test)"
   ]
  },
  {
   "cell_type": "code",
   "execution_count": null,
   "id": "e153a56d",
   "metadata": {},
   "outputs": [],
   "source": [
    "# for i in range(len(fs.scores_)):\n",
    "#     print('feature %d: %f' % (i, fs.scores_[i]))\n",
    "    \n",
    "# pyplot.bar([i for i in range(len(fs.scores_))], fs.scores_)\n",
    "# pyplot.show()"
   ]
  },
  {
   "cell_type": "markdown",
   "id": "660936b8",
   "metadata": {},
   "source": [
    "# Mutual information is calculated between two variables and measures the reduction in uncertainty for one variable given a known value of the other variable."
   ]
  },
  {
   "cell_type": "code",
   "execution_count": null,
   "id": "8986d5bc",
   "metadata": {},
   "outputs": [],
   "source": [
    "def select_features(X_train, y_train, X_test):\n",
    "    fs = SelectKBest(score_func=mutual_info_classif, k='all')\n",
    "    fs.fit(X_train, y_train)\n",
    "    X_train_fs = fs.transform(X_train)\n",
    "    X_test_fs = fs.transform(X_test)\n",
    "    return X_train_fs, X_test_fs, fs"
   ]
  },
  {
   "cell_type": "code",
   "execution_count": null,
   "id": "9f14d7fc",
   "metadata": {},
   "outputs": [],
   "source": [
    "X = df.drop(columns=['averageRating', 'ratingClass', 'tconst', 'primaryTitle'])\n",
    "y = df[['ratingClass']]"
   ]
  },
  {
   "cell_type": "code",
   "execution_count": null,
   "id": "2afc77e9",
   "metadata": {},
   "outputs": [],
   "source": [
    "X_train, X_test, y_train, y_test = train_test_split(X, y, test_size=0.2, random_state=42)"
   ]
  },
  {
   "cell_type": "code",
   "execution_count": null,
   "id": "032c5357",
   "metadata": {},
   "outputs": [],
   "source": [
    "X_train_fs, X_test_fs, fs = select_features(X_train, y_train, X_test)"
   ]
  },
  {
   "cell_type": "code",
   "execution_count": null,
   "id": "2035cc2e",
   "metadata": {},
   "outputs": [],
   "source": [
    "for i in range(len(fs.scores_)):\n",
    "    print('Feature %d: %f' % (i, fs.scores_[i]))\n",
    "\n",
    "pyplot.bar([i for i in range(len(fs.scores_))], fs.scores_)\n",
    "pyplot.show()"
   ]
  },
  {
   "cell_type": "code",
   "execution_count": null,
   "id": "02de37a4",
   "metadata": {},
   "outputs": [],
   "source": [
    "scores = {}\n",
    "features = X.columns\n",
    "\n",
    "for i in range(len(fs.scores_)):\n",
    "    scores[features[i]] = fs.scores_[i]\n",
    "#     if i not in scores:\n",
    "#         scores.append('Feature %d: %f' % (i, fs.scores_[i]))"
   ]
  },
  {
   "cell_type": "code",
   "execution_count": null,
   "id": "aa7ec171",
   "metadata": {},
   "outputs": [],
   "source": [
    "sorted_scores = sorted(scores.items(), key=operator.itemgetter(1), reverse=True)"
   ]
  },
  {
   "cell_type": "code",
   "execution_count": null,
   "id": "70a8abbe",
   "metadata": {},
   "outputs": [],
   "source": [
    "sorted_scores"
   ]
  },
  {
   "cell_type": "code",
   "execution_count": null,
   "id": "45ea809b",
   "metadata": {},
   "outputs": [],
   "source": [
    "sorted_scores[1]"
   ]
  },
  {
   "cell_type": "code",
   "execution_count": null,
   "id": "dbc550d7",
   "metadata": {},
   "outputs": [],
   "source": [
    "filtered_features = [feature for feature in sorted_scores if feature[1] > 0]"
   ]
  },
  {
   "cell_type": "code",
   "execution_count": null,
   "id": "b4eb1cb6",
   "metadata": {},
   "outputs": [],
   "source": [
    "filtered_features"
   ]
  },
  {
   "cell_type": "code",
   "execution_count": null,
   "id": "d432dc0a",
   "metadata": {},
   "outputs": [],
   "source": [
    "selected_features = []\n",
    "\n",
    "for i in filtered_features:\n",
    "    selected_features.append(i[0])"
   ]
  },
  {
   "cell_type": "code",
   "execution_count": null,
   "id": "e5cf8d5e",
   "metadata": {},
   "outputs": [],
   "source": [
    "selected_features"
   ]
  },
  {
   "cell_type": "code",
   "execution_count": null,
   "id": "99fb6d60",
   "metadata": {},
   "outputs": [],
   "source": [
    "X = X[selected_features]"
   ]
  },
  {
   "cell_type": "code",
   "execution_count": null,
   "id": "2373a081",
   "metadata": {},
   "outputs": [],
   "source": [
    "len(X.columns)"
   ]
  },
  {
   "cell_type": "code",
   "execution_count": null,
   "id": "d63c04a8",
   "metadata": {},
   "outputs": [],
   "source": [
    "y.value_counts()"
   ]
  },
  {
   "cell_type": "code",
   "execution_count": null,
   "id": "1f84ab22",
   "metadata": {},
   "outputs": [],
   "source": [
    "y_vars = ['ratingClass', 'averageRating']\n",
    "\n",
    "selected_features.extend(y_vars)"
   ]
  },
  {
   "cell_type": "code",
   "execution_count": null,
   "id": "804bb37f",
   "metadata": {},
   "outputs": [],
   "source": [
    "selected_features"
   ]
  },
  {
   "cell_type": "code",
   "execution_count": null,
   "id": "90fc303d",
   "metadata": {},
   "outputs": [],
   "source": [
    "df2 = df[selected_features]"
   ]
  },
  {
   "cell_type": "code",
   "execution_count": null,
   "id": "eb588b6c",
   "metadata": {},
   "outputs": [],
   "source": [
    "X = df2.drop(columns=['averageRating', 'ratingClass'])\n",
    "y = df2[['ratingClass']]"
   ]
  },
  {
   "cell_type": "code",
   "execution_count": null,
   "id": "633f00ac",
   "metadata": {},
   "outputs": [],
   "source": [
    "# y = tf.keras.utils.to_categorical(y)"
   ]
  },
  {
   "cell_type": "code",
   "execution_count": null,
   "id": "0655a5d7",
   "metadata": {},
   "outputs": [],
   "source": [
    "X_train, X_test, y_train, y_test = train_test_split(X, y, test_size=0.2, random_state=42)"
   ]
  },
  {
   "cell_type": "markdown",
   "id": "7bc28a9c",
   "metadata": {},
   "source": [
    "# Oversampling\n",
    "With SMOTE, the minority class is over-sampled by creating “synthetic” examples\n",
    "These introduced synthetic examples are based along the line segments joining a defined number of k minority class nearest neighbours, which is in the imblearn package is set at five by default."
   ]
  },
  {
   "cell_type": "code",
   "execution_count": null,
   "id": "a6f81490",
   "metadata": {},
   "outputs": [],
   "source": [
    "print(\"Before oversampling: \", y_train.value_counts())"
   ]
  },
  {
   "cell_type": "code",
   "execution_count": null,
   "id": "7ebff882",
   "metadata": {},
   "outputs": [],
   "source": [
    "X_train"
   ]
  },
  {
   "cell_type": "code",
   "execution_count": null,
   "id": "d83eb889",
   "metadata": {},
   "outputs": [],
   "source": [
    "SMOTE = SMOTE()"
   ]
  },
  {
   "cell_type": "code",
   "execution_count": null,
   "id": "ee887133",
   "metadata": {},
   "outputs": [],
   "source": [
    "X_train_SMOTE, y_train_SMOTE = SMOTE.fit_resample(X_train, y_train)"
   ]
  },
  {
   "cell_type": "code",
   "execution_count": null,
   "id": "f02f3359",
   "metadata": {},
   "outputs": [],
   "source": [
    "print(\"After oversampling: \", y_train_SMOTE.value_counts())"
   ]
  },
  {
   "cell_type": "code",
   "execution_count": null,
   "id": "0768ae72",
   "metadata": {},
   "outputs": [],
   "source": [
    "# classifier = MLPClassifier(hidden_layer_sizes=(150,100,50)\n",
    "#                            , max_iter=300\n",
    "#                            ,activation = 'relu'\n",
    "#                            ,solver='adam',random_state=42)\n",
    "\n",
    "# classifier.fit(X_train, y_train)"
   ]
  },
  {
   "cell_type": "code",
   "execution_count": null,
   "id": "936d694e",
   "metadata": {},
   "outputs": [],
   "source": [
    "def accuracy(confusion_matrix):\n",
    "    diagonal_sum = confusion_matrix.trace()\n",
    "    sum_of_all_elements = confusion_matrix.sum()\n",
    "    return diagonal_sum / sum_of_all_elements"
   ]
  },
  {
   "cell_type": "code",
   "execution_count": 49,
   "id": "91f99b16",
   "metadata": {},
   "outputs": [],
   "source": [
    "# y_pred = classifier.predict(X_test)"
   ]
  },
  {
   "cell_type": "code",
   "execution_count": 50,
   "id": "33b0afd1",
   "metadata": {},
   "outputs": [],
   "source": [
    "# cm = confusion_matrix(y_pred, y_test)"
   ]
  },
  {
   "cell_type": "code",
   "execution_count": 52,
   "id": "4ac68417",
   "metadata": {},
   "outputs": [
    {
     "name": "stdout",
     "output_type": "stream",
     "text": [
      "Accuracy of MLPClassifier :  0.5428467683369644\n"
     ]
    }
   ],
   "source": [
    "# print(\"Accuracy of MLPClassifier : \", accuracy(cm))"
   ]
  },
  {
   "cell_type": "code",
   "execution_count": 45,
   "id": "e24f2b12",
   "metadata": {},
   "outputs": [
    {
     "name": "stdout",
     "output_type": "stream",
     "text": [
      "Score: 0.5721\n"
     ]
    }
   ],
   "source": [
    "# mlp = MLPClassifier(solver=\"adam\", activation=\"logistic\", alpha=1e-5, hidden_layer_sizes=(100, 20),\n",
    "#                     random_state=42)\n",
    "\n",
    "# print(\"Score: {:.4f}\".format(cross_val_score(mlp, X_train, y_train, cv=3).mean()))"
   ]
  },
  {
   "cell_type": "code",
   "execution_count": 54,
   "id": "58a61ee9",
   "metadata": {},
   "outputs": [],
   "source": [
    "# mlp.fit(X_train, y_train)\n",
    "# y_pred = mlp.predict(X_test)"
   ]
  },
  {
   "cell_type": "code",
   "execution_count": 55,
   "id": "e3c40bc7",
   "metadata": {},
   "outputs": [],
   "source": [
    "# cm = confusion_matrix(y_pred, y_test)"
   ]
  },
  {
   "cell_type": "code",
   "execution_count": 56,
   "id": "f32458da",
   "metadata": {},
   "outputs": [
    {
     "name": "stdout",
     "output_type": "stream",
     "text": [
      "Accuracy of MLPClassifier :  0.5750907770515614\n"
     ]
    }
   ],
   "source": [
    "# print(\"Accuracy of MLPClassifier : \", accuracy(cm))"
   ]
  },
  {
   "cell_type": "code",
   "execution_count": null,
   "id": "1cd9f44d",
   "metadata": {},
   "outputs": [],
   "source": [
    "# model=SVC()\n",
    "# clf_SMOTE = model.fit(X_train_SMOTE, y_train_SMOTE)\n",
    "# pred_SMOTE = clf_SMOTE.predict(X_test)"
   ]
  },
  {
   "cell_type": "code",
   "execution_count": null,
   "id": "36c3fdea",
   "metadata": {},
   "outputs": [],
   "source": [
    "y_train_cat = tf.keras.utils.to_categorical(y_train)\n",
    "y_test_cat = tf.keras.utils.to_categorical(y_test)"
   ]
  },
  {
   "cell_type": "code",
   "execution_count": 142,
   "id": "55e44ede",
   "metadata": {},
   "outputs": [],
   "source": [
    "def final_model(input_dim=(len(X_train.columns)), classes = 5):\n",
    "    \n",
    "    model = Sequential([\n",
    "        \n",
    "\n",
    "    Dense(350, input_dim=(len(X_train.columns)), activation = 'relu', kernel_initializer='normal', kernel_regularizer=l2(0.0005), name = 'layer_1'),\n",
    "    \n",
    "\n",
    "    Dense(100, input_dim=(len(X_train.columns)), kernel_initializer='normal', name = 'layer_2'),\n",
    "    \n",
    "\n",
    "    BatchNormalization(name = 'batchnorm_1'),\n",
    "    Activation(\"relu\"),\n",
    "    Dropout(0.25, name = 'dropout_1'),\n",
    "    Dense(64, input_dim=(len(X_train.columns)), kernel_initializer='normal', activation = 'relu', kernel_regularizer=l2(0.0005), name = 'layer_3'),\n",
    "        \n",
    "\n",
    "    Dense(64, input_dim=(len(X_train.columns)), kernel_initializer='normal', name = 'layer_4', use_bias=False),\n",
    "        \n",
    "\n",
    "    BatchNormalization(name = 'batchnorm_2'),\n",
    "    Activation(\"relu\"),\n",
    "    Dropout(0.25, name = 'dropout_2'),\n",
    "    Flatten(name = 'flatten'),\n",
    "\n",
    "        \n",
    "\n",
    "    Dense(256, input_dim=(len(X_train.columns)), kernel_initializer='normal', name = 'fully_connected_1', use_bias=False),\n",
    "        \n",
    "\n",
    "    BatchNormalization(name = 'batchnorm_3'),\n",
    "    Activation(\"relu\"),\n",
    "        \n",
    "\n",
    "    Dense(128, input_dim=(len(X_train.columns)), kernel_initializer='normal', name = 'fully_connected_2', use_bias=False),\n",
    "        \n",
    "\n",
    "    BatchNormalization(name = 'batchnorm_4'),\n",
    "    Activation(\"relu\"),\n",
    "        \n",
    "\n",
    "    Dense(84, input_dim=(len(X_train.columns)), name = 'fully_connected_3', use_bias=False),\n",
    "        \n",
    "\n",
    "    BatchNormalization(name = 'batchnorm_5'),\n",
    "    Activation(\"relu\"),\n",
    "    Dropout(0.25, name = 'dropout_3'),\n",
    "\n",
    "\n",
    "    Dense(units = 5, activation = 'softmax', name = 'output')  \n",
    "    ])\n",
    "    \n",
    "    model._name = 'final_model'\n",
    "\n",
    "    return model"
   ]
  },
  {
   "cell_type": "code",
   "execution_count": 143,
   "id": "2a88353c",
   "metadata": {},
   "outputs": [],
   "source": [
    "rating_predictor = final_model(input_dim=(len(X_train.columns)), classes = 5)"
   ]
  },
  {
   "cell_type": "code",
   "execution_count": 144,
   "id": "26f104ad",
   "metadata": {},
   "outputs": [],
   "source": [
    "rating_predictor.compile(optimizer='adam', loss='sparse_categorical_crossentropy', metrics=['accuracy'])"
   ]
  },
  {
   "cell_type": "code",
   "execution_count": 145,
   "id": "f11b2b3d",
   "metadata": {},
   "outputs": [],
   "source": [
    "variable_learning_rate = ReduceLROnPlateau(monitor='val_loss', factor = 0.2, patience = 2)\n",
    "mc = ModelCheckpoint(\"/home/creeg/projects/audible/notebooks/rating_predictor.h5\", monitor='val_accuracy', verbose=1, save_best_only=True)\n",
    "cb = [mc, variable_learning_rate]"
   ]
  },
  {
   "cell_type": "code",
   "execution_count": 146,
   "id": "d11b3318",
   "metadata": {},
   "outputs": [
    {
     "name": "stdout",
     "output_type": "stream",
     "text": [
      "Epoch 1/200\n",
      "3849/3856 [============================>.] - ETA: 0s - loss: 1.0798 - accuracy: 0.5303\n",
      "Epoch 1: val_accuracy improved from -inf to 0.55407, saving model to /home/creeg/projects/audible/notebooks/rating_predictor.h5\n",
      "3856/3856 [==============================] - 15s 4ms/step - loss: 1.0797 - accuracy: 0.5304 - val_loss: 1.0201 - val_accuracy: 0.5541 - lr: 0.0010\n",
      "Epoch 2/200\n",
      "3850/3856 [============================>.] - ETA: 0s - loss: 1.0340 - accuracy: 0.5463\n",
      "Epoch 2: val_accuracy did not improve from 0.55407\n",
      "3856/3856 [==============================] - 14s 4ms/step - loss: 1.0339 - accuracy: 0.5463 - val_loss: 1.0118 - val_accuracy: 0.5496 - lr: 0.0010\n",
      "Epoch 3/200\n",
      "3842/3856 [============================>.] - ETA: 0s - loss: 1.0236 - accuracy: 0.5502\n",
      "Epoch 3: val_accuracy improved from 0.55407 to 0.55592, saving model to /home/creeg/projects/audible/notebooks/rating_predictor.h5\n",
      "3856/3856 [==============================] - 14s 4ms/step - loss: 1.0232 - accuracy: 0.5503 - val_loss: 1.0078 - val_accuracy: 0.5559 - lr: 0.0010\n",
      "Epoch 4/200\n",
      "3846/3856 [============================>.] - ETA: 0s - loss: 1.0158 - accuracy: 0.5551\n",
      "Epoch 4: val_accuracy improved from 0.55592 to 0.55846, saving model to /home/creeg/projects/audible/notebooks/rating_predictor.h5\n",
      "3856/3856 [==============================] - 14s 4ms/step - loss: 1.0158 - accuracy: 0.5551 - val_loss: 0.9924 - val_accuracy: 0.5585 - lr: 0.0010\n",
      "Epoch 5/200\n",
      "3843/3856 [============================>.] - ETA: 0s - loss: 1.0096 - accuracy: 0.5541\n",
      "Epoch 5: val_accuracy improved from 0.55846 to 0.56052, saving model to /home/creeg/projects/audible/notebooks/rating_predictor.h5\n",
      "3856/3856 [==============================] - 13s 3ms/step - loss: 1.0095 - accuracy: 0.5542 - val_loss: 0.9858 - val_accuracy: 0.5605 - lr: 0.0010\n",
      "Epoch 6/200\n",
      "3841/3856 [============================>.] - ETA: 0s - loss: 1.0072 - accuracy: 0.5557\n",
      "Epoch 6: val_accuracy did not improve from 0.56052\n",
      "3856/3856 [==============================] - 15s 4ms/step - loss: 1.0073 - accuracy: 0.5557 - val_loss: 0.9846 - val_accuracy: 0.5605 - lr: 0.0010\n",
      "Epoch 7/200\n",
      "3852/3856 [============================>.] - ETA: 0s - loss: 1.0047 - accuracy: 0.5557\n",
      "Epoch 7: val_accuracy improved from 0.56052 to 0.56124, saving model to /home/creeg/projects/audible/notebooks/rating_predictor.h5\n",
      "3856/3856 [==============================] - 14s 4ms/step - loss: 1.0046 - accuracy: 0.5557 - val_loss: 0.9854 - val_accuracy: 0.5612 - lr: 0.0010\n",
      "Epoch 8/200\n",
      "3856/3856 [==============================] - ETA: 0s - loss: 1.0032 - accuracy: 0.5550\n",
      "Epoch 8: val_accuracy improved from 0.56124 to 0.56170, saving model to /home/creeg/projects/audible/notebooks/rating_predictor.h5\n",
      "3856/3856 [==============================] - 14s 4ms/step - loss: 1.0032 - accuracy: 0.5550 - val_loss: 0.9828 - val_accuracy: 0.5617 - lr: 0.0010\n",
      "Epoch 9/200\n",
      "3855/3856 [============================>.] - ETA: 0s - loss: 1.0008 - accuracy: 0.5546\n",
      "Epoch 9: val_accuracy improved from 0.56170 to 0.56242, saving model to /home/creeg/projects/audible/notebooks/rating_predictor.h5\n",
      "3856/3856 [==============================] - 15s 4ms/step - loss: 1.0009 - accuracy: 0.5546 - val_loss: 0.9822 - val_accuracy: 0.5624 - lr: 0.0010\n",
      "Epoch 10/200\n",
      "3851/3856 [============================>.] - ETA: 0s - loss: 0.9986 - accuracy: 0.5578\n",
      "Epoch 10: val_accuracy improved from 0.56242 to 0.56267, saving model to /home/creeg/projects/audible/notebooks/rating_predictor.h5\n",
      "3856/3856 [==============================] - 16s 4ms/step - loss: 0.9985 - accuracy: 0.5578 - val_loss: 0.9819 - val_accuracy: 0.5627 - lr: 0.0010\n",
      "Epoch 11/200\n",
      "3847/3856 [============================>.] - ETA: 0s - loss: 0.9993 - accuracy: 0.5574\n",
      "Epoch 11: val_accuracy improved from 0.56267 to 0.56609, saving model to /home/creeg/projects/audible/notebooks/rating_predictor.h5\n",
      "3856/3856 [==============================] - 14s 4ms/step - loss: 0.9992 - accuracy: 0.5574 - val_loss: 0.9783 - val_accuracy: 0.5661 - lr: 0.0010\n",
      "Epoch 12/200\n",
      "3844/3856 [============================>.] - ETA: 0s - loss: 0.9974 - accuracy: 0.5586\n",
      "Epoch 12: val_accuracy did not improve from 0.56609\n",
      "3856/3856 [==============================] - 15s 4ms/step - loss: 0.9975 - accuracy: 0.5586 - val_loss: 0.9826 - val_accuracy: 0.5643 - lr: 0.0010\n",
      "Epoch 13/200\n",
      "3845/3856 [============================>.] - ETA: 0s - loss: 0.9960 - accuracy: 0.5578\n",
      "Epoch 13: val_accuracy improved from 0.56609 to 0.56618, saving model to /home/creeg/projects/audible/notebooks/rating_predictor.h5\n",
      "3856/3856 [==============================] - 15s 4ms/step - loss: 0.9962 - accuracy: 0.5578 - val_loss: 0.9766 - val_accuracy: 0.5662 - lr: 0.0010\n",
      "Epoch 14/200\n",
      "3846/3856 [============================>.] - ETA: 0s - loss: 0.9937 - accuracy: 0.5583\n",
      "Epoch 14: val_accuracy did not improve from 0.56618\n",
      "3856/3856 [==============================] - 13s 3ms/step - loss: 0.9937 - accuracy: 0.5583 - val_loss: 0.9853 - val_accuracy: 0.5613 - lr: 0.0010\n",
      "Epoch 15/200\n",
      "3844/3856 [============================>.] - ETA: 0s - loss: 0.9936 - accuracy: 0.5599\n",
      "Epoch 15: val_accuracy improved from 0.56618 to 0.56754, saving model to /home/creeg/projects/audible/notebooks/rating_predictor.h5\n",
      "3856/3856 [==============================] - 15s 4ms/step - loss: 0.9936 - accuracy: 0.5599 - val_loss: 0.9757 - val_accuracy: 0.5675 - lr: 0.0010\n",
      "Epoch 16/200\n",
      "3847/3856 [============================>.] - ETA: 0s - loss: 0.9943 - accuracy: 0.5592\n",
      "Epoch 16: val_accuracy did not improve from 0.56754\n",
      "3856/3856 [==============================] - 15s 4ms/step - loss: 0.9944 - accuracy: 0.5592 - val_loss: 0.9761 - val_accuracy: 0.5636 - lr: 0.0010\n",
      "Epoch 17/200\n",
      "3851/3856 [============================>.] - ETA: 0s - loss: 0.9927 - accuracy: 0.5601\n",
      "Epoch 17: val_accuracy did not improve from 0.56754\n",
      "3856/3856 [==============================] - 15s 4ms/step - loss: 0.9929 - accuracy: 0.5602 - val_loss: 0.9767 - val_accuracy: 0.5661 - lr: 0.0010\n",
      "Epoch 18/200\n",
      "3842/3856 [============================>.] - ETA: 0s - loss: 0.9936 - accuracy: 0.5610\n",
      "Epoch 18: val_accuracy did not improve from 0.56754\n",
      "3856/3856 [==============================] - 14s 4ms/step - loss: 0.9933 - accuracy: 0.5612 - val_loss: 0.9794 - val_accuracy: 0.5627 - lr: 0.0010\n",
      "Epoch 19/200\n",
      "3851/3856 [============================>.] - ETA: 0s - loss: 0.9923 - accuracy: 0.5606\n",
      "Epoch 19: val_accuracy did not improve from 0.56754\n",
      "3856/3856 [==============================] - 14s 4ms/step - loss: 0.9923 - accuracy: 0.5606 - val_loss: 0.9801 - val_accuracy: 0.5635 - lr: 0.0010\n",
      "Epoch 20/200\n",
      "3845/3856 [============================>.] - ETA: 0s - loss: 0.9933 - accuracy: 0.5609\n",
      "Epoch 20: val_accuracy did not improve from 0.56754\n",
      "3856/3856 [==============================] - 14s 4ms/step - loss: 0.9932 - accuracy: 0.5609 - val_loss: 0.9766 - val_accuracy: 0.5652 - lr: 0.0010\n",
      "Epoch 21/200\n",
      "3846/3856 [============================>.] - ETA: 0s - loss: 0.9911 - accuracy: 0.5605\n",
      "Epoch 21: val_accuracy did not improve from 0.56754\n",
      "3856/3856 [==============================] - 15s 4ms/step - loss: 0.9911 - accuracy: 0.5605 - val_loss: 0.9732 - val_accuracy: 0.5668 - lr: 0.0010\n",
      "Epoch 22/200\n",
      "3850/3856 [============================>.] - ETA: 0s - loss: 0.9919 - accuracy: 0.5597\n",
      "Epoch 22: val_accuracy did not improve from 0.56754\n",
      "3856/3856 [==============================] - 14s 4ms/step - loss: 0.9919 - accuracy: 0.5597 - val_loss: 0.9775 - val_accuracy: 0.5620 - lr: 0.0010\n",
      "Epoch 23/200\n",
      "3851/3856 [============================>.] - ETA: 0s - loss: 0.9910 - accuracy: 0.5616\n",
      "Epoch 23: val_accuracy did not improve from 0.56754\n",
      "3856/3856 [==============================] - 15s 4ms/step - loss: 0.9912 - accuracy: 0.5616 - val_loss: 0.9763 - val_accuracy: 0.5655 - lr: 0.0010\n",
      "Epoch 24/200\n",
      "3844/3856 [============================>.] - ETA: 0s - loss: 0.9894 - accuracy: 0.5614\n",
      "Epoch 24: val_accuracy did not improve from 0.56754\n",
      "3856/3856 [==============================] - 15s 4ms/step - loss: 0.9896 - accuracy: 0.5613 - val_loss: 0.9751 - val_accuracy: 0.5669 - lr: 0.0010\n",
      "Epoch 25/200\n",
      "3843/3856 [============================>.] - ETA: 0s - loss: 0.9894 - accuracy: 0.5613\n",
      "Epoch 25: val_accuracy did not improve from 0.56754\n",
      "3856/3856 [==============================] - 15s 4ms/step - loss: 0.9892 - accuracy: 0.5614 - val_loss: 0.9770 - val_accuracy: 0.5657 - lr: 0.0010\n"
     ]
    },
    {
     "name": "stdout",
     "output_type": "stream",
     "text": [
      "Epoch 26/200\n",
      "3850/3856 [============================>.] - ETA: 0s - loss: 0.9893 - accuracy: 0.5618\n",
      "Epoch 26: val_accuracy improved from 0.56754 to 0.56832, saving model to /home/creeg/projects/audible/notebooks/rating_predictor.h5\n",
      "3856/3856 [==============================] - 15s 4ms/step - loss: 0.9893 - accuracy: 0.5618 - val_loss: 0.9727 - val_accuracy: 0.5683 - lr: 0.0010\n",
      "Epoch 27/200\n",
      "3852/3856 [============================>.] - ETA: 0s - loss: 0.9894 - accuracy: 0.5623\n",
      "Epoch 27: val_accuracy did not improve from 0.56832\n",
      "3856/3856 [==============================] - 13s 3ms/step - loss: 0.9895 - accuracy: 0.5622 - val_loss: 0.9799 - val_accuracy: 0.5672 - lr: 0.0010\n",
      "Epoch 28/200\n",
      "3854/3856 [============================>.] - ETA: 0s - loss: 0.9881 - accuracy: 0.5605\n",
      "Epoch 28: val_accuracy did not improve from 0.56832\n",
      "3856/3856 [==============================] - 14s 4ms/step - loss: 0.9881 - accuracy: 0.5606 - val_loss: 0.9737 - val_accuracy: 0.5666 - lr: 0.0010\n",
      "Epoch 29/200\n",
      "3855/3856 [============================>.] - ETA: 0s - loss: 0.9889 - accuracy: 0.5602\n",
      "Epoch 29: val_accuracy did not improve from 0.56832\n",
      "3856/3856 [==============================] - 15s 4ms/step - loss: 0.9889 - accuracy: 0.5602 - val_loss: 0.9757 - val_accuracy: 0.5663 - lr: 0.0010\n",
      "Epoch 30/200\n",
      "3853/3856 [============================>.] - ETA: 0s - loss: 0.9874 - accuracy: 0.5624\n",
      "Epoch 30: val_accuracy did not improve from 0.56832\n",
      "3856/3856 [==============================] - 14s 4ms/step - loss: 0.9873 - accuracy: 0.5624 - val_loss: 0.9736 - val_accuracy: 0.5680 - lr: 0.0010\n",
      "Epoch 31/200\n",
      "3847/3856 [============================>.] - ETA: 0s - loss: 0.9875 - accuracy: 0.5620\n",
      "Epoch 31: val_accuracy did not improve from 0.56832\n",
      "3856/3856 [==============================] - 14s 4ms/step - loss: 0.9875 - accuracy: 0.5620 - val_loss: 0.9768 - val_accuracy: 0.5663 - lr: 0.0010\n",
      "Epoch 32/200\n",
      "3848/3856 [============================>.] - ETA: 0s - loss: 0.9891 - accuracy: 0.5615\n",
      "Epoch 32: val_accuracy did not improve from 0.56832\n",
      "3856/3856 [==============================] - 14s 4ms/step - loss: 0.9890 - accuracy: 0.5615 - val_loss: 0.9745 - val_accuracy: 0.5681 - lr: 0.0010\n",
      "Epoch 33/200\n",
      "3855/3856 [============================>.] - ETA: 0s - loss: 0.9887 - accuracy: 0.5612\n",
      "Epoch 33: val_accuracy did not improve from 0.56832\n",
      "3856/3856 [==============================] - 14s 4ms/step - loss: 0.9886 - accuracy: 0.5612 - val_loss: 0.9724 - val_accuracy: 0.5664 - lr: 0.0010\n",
      "Epoch 34/200\n",
      "3845/3856 [============================>.] - ETA: 0s - loss: 0.9872 - accuracy: 0.5628\n",
      "Epoch 34: val_accuracy improved from 0.56832 to 0.56875, saving model to /home/creeg/projects/audible/notebooks/rating_predictor.h5\n",
      "3856/3856 [==============================] - 16s 4ms/step - loss: 0.9872 - accuracy: 0.5628 - val_loss: 0.9717 - val_accuracy: 0.5687 - lr: 0.0010\n",
      "Epoch 35/200\n",
      "3844/3856 [============================>.] - ETA: 0s - loss: 0.9874 - accuracy: 0.5620\n",
      "Epoch 35: val_accuracy did not improve from 0.56875\n",
      "3856/3856 [==============================] - 15s 4ms/step - loss: 0.9875 - accuracy: 0.5619 - val_loss: 0.9761 - val_accuracy: 0.5668 - lr: 0.0010\n",
      "Epoch 36/200\n",
      "3855/3856 [============================>.] - ETA: 0s - loss: 0.9872 - accuracy: 0.5628\n",
      "Epoch 36: val_accuracy did not improve from 0.56875\n",
      "3856/3856 [==============================] - 15s 4ms/step - loss: 0.9872 - accuracy: 0.5628 - val_loss: 0.9796 - val_accuracy: 0.5624 - lr: 0.0010\n",
      "Epoch 37/200\n",
      "3842/3856 [============================>.] - ETA: 0s - loss: 0.9884 - accuracy: 0.5629\n",
      "Epoch 37: val_accuracy did not improve from 0.56875\n",
      "3856/3856 [==============================] - 14s 4ms/step - loss: 0.9884 - accuracy: 0.5631 - val_loss: 0.9756 - val_accuracy: 0.5643 - lr: 0.0010\n",
      "Epoch 38/200\n",
      "3850/3856 [============================>.] - ETA: 0s - loss: 0.9878 - accuracy: 0.5635\n",
      "Epoch 38: val_accuracy did not improve from 0.56875\n",
      "3856/3856 [==============================] - 16s 4ms/step - loss: 0.9879 - accuracy: 0.5635 - val_loss: 0.9741 - val_accuracy: 0.5676 - lr: 0.0010\n",
      "Epoch 39/200\n",
      "3850/3856 [============================>.] - ETA: 0s - loss: 0.9862 - accuracy: 0.5632\n",
      "Epoch 39: val_accuracy did not improve from 0.56875\n",
      "3856/3856 [==============================] - 15s 4ms/step - loss: 0.9864 - accuracy: 0.5631 - val_loss: 0.9723 - val_accuracy: 0.5677 - lr: 0.0010\n",
      "Epoch 40/200\n",
      "3852/3856 [============================>.] - ETA: 0s - loss: 0.9877 - accuracy: 0.5634\n",
      "Epoch 40: val_accuracy did not improve from 0.56875\n",
      "3856/3856 [==============================] - 14s 4ms/step - loss: 0.9877 - accuracy: 0.5634 - val_loss: 0.9791 - val_accuracy: 0.5613 - lr: 0.0010\n",
      "Epoch 41/200\n",
      "3856/3856 [==============================] - ETA: 0s - loss: 0.9865 - accuracy: 0.5628\n",
      "Epoch 41: val_accuracy did not improve from 0.56875\n",
      "3856/3856 [==============================] - 14s 4ms/step - loss: 0.9865 - accuracy: 0.5628 - val_loss: 0.9713 - val_accuracy: 0.5682 - lr: 0.0010\n",
      "Epoch 42/200\n",
      "3850/3856 [============================>.] - ETA: 0s - loss: 0.9868 - accuracy: 0.5629\n",
      "Epoch 42: val_accuracy did not improve from 0.56875\n",
      "3856/3856 [==============================] - 14s 4ms/step - loss: 0.9868 - accuracy: 0.5629 - val_loss: 0.9719 - val_accuracy: 0.5659 - lr: 0.0010\n",
      "Epoch 43/200\n",
      "3846/3856 [============================>.] - ETA: 0s - loss: 0.9867 - accuracy: 0.5623\n",
      "Epoch 43: val_accuracy did not improve from 0.56875\n",
      "3856/3856 [==============================] - 15s 4ms/step - loss: 0.9867 - accuracy: 0.5623 - val_loss: 0.9764 - val_accuracy: 0.5682 - lr: 0.0010\n",
      "Epoch 44/200\n",
      "3852/3856 [============================>.] - ETA: 0s - loss: 0.9878 - accuracy: 0.5626\n",
      "Epoch 44: val_accuracy did not improve from 0.56875\n",
      "3856/3856 [==============================] - 14s 4ms/step - loss: 0.9878 - accuracy: 0.5626 - val_loss: 0.9763 - val_accuracy: 0.5682 - lr: 0.0010\n",
      "Epoch 45/200\n",
      "3843/3856 [============================>.] - ETA: 0s - loss: 0.9853 - accuracy: 0.5643\n",
      "Epoch 45: val_accuracy did not improve from 0.56875\n",
      "3856/3856 [==============================] - 15s 4ms/step - loss: 0.9854 - accuracy: 0.5642 - val_loss: 0.9718 - val_accuracy: 0.5668 - lr: 0.0010\n",
      "Epoch 46/200\n",
      "3845/3856 [============================>.] - ETA: 0s - loss: 0.9858 - accuracy: 0.5632\n",
      "Epoch 46: val_accuracy did not improve from 0.56875\n",
      "3856/3856 [==============================] - 14s 4ms/step - loss: 0.9860 - accuracy: 0.5630 - val_loss: 0.9745 - val_accuracy: 0.5655 - lr: 0.0010\n",
      "Epoch 47/200\n",
      "3856/3856 [==============================] - ETA: 0s - loss: 0.9862 - accuracy: 0.5626\n",
      "Epoch 47: val_accuracy did not improve from 0.56875\n",
      "3856/3856 [==============================] - 15s 4ms/step - loss: 0.9862 - accuracy: 0.5626 - val_loss: 0.9750 - val_accuracy: 0.5642 - lr: 0.0010\n",
      "Epoch 48/200\n",
      "3840/3856 [============================>.] - ETA: 0s - loss: 0.9868 - accuracy: 0.5624\n",
      "Epoch 48: val_accuracy did not improve from 0.56875\n",
      "3856/3856 [==============================] - 14s 4ms/step - loss: 0.9864 - accuracy: 0.5624 - val_loss: 0.9748 - val_accuracy: 0.5660 - lr: 0.0010\n",
      "Epoch 49/200\n",
      "3847/3856 [============================>.] - ETA: 0s - loss: 0.9870 - accuracy: 0.5626\n",
      "Epoch 49: val_accuracy did not improve from 0.56875\n",
      "3856/3856 [==============================] - 14s 4ms/step - loss: 0.9871 - accuracy: 0.5626 - val_loss: 0.9742 - val_accuracy: 0.5674 - lr: 0.0010\n",
      "Epoch 50/200\n",
      "3839/3856 [============================>.] - ETA: 0s - loss: 0.9866 - accuracy: 0.5633\n",
      "Epoch 50: val_accuracy did not improve from 0.56875\n",
      "3856/3856 [==============================] - 15s 4ms/step - loss: 0.9866 - accuracy: 0.5633 - val_loss: 0.9729 - val_accuracy: 0.5658 - lr: 0.0010\n",
      "Epoch 51/200\n",
      "3846/3856 [============================>.] - ETA: 0s - loss: 0.9867 - accuracy: 0.5625\n",
      "Epoch 51: val_accuracy did not improve from 0.56875\n",
      "3856/3856 [==============================] - 14s 4ms/step - loss: 0.9866 - accuracy: 0.5627 - val_loss: 0.9715 - val_accuracy: 0.5661 - lr: 0.0010\n",
      "Epoch 52/200\n",
      "3849/3856 [============================>.] - ETA: 0s - loss: 0.9765 - accuracy: 0.5653\n",
      "Epoch 52: val_accuracy improved from 0.56875 to 0.56990, saving model to /home/creeg/projects/audible/notebooks/rating_predictor.h5\n",
      "3856/3856 [==============================] - 16s 4ms/step - loss: 0.9762 - accuracy: 0.5655 - val_loss: 0.9664 - val_accuracy: 0.5699 - lr: 2.0000e-04\n"
     ]
    },
    {
     "name": "stdout",
     "output_type": "stream",
     "text": [
      "Epoch 53/200\n",
      "3846/3856 [============================>.] - ETA: 0s - loss: 0.9743 - accuracy: 0.5687\n",
      "Epoch 53: val_accuracy did not improve from 0.56990\n",
      "3856/3856 [==============================] - 15s 4ms/step - loss: 0.9742 - accuracy: 0.5687 - val_loss: 0.9650 - val_accuracy: 0.5686 - lr: 2.0000e-04\n",
      "Epoch 54/200\n",
      "3850/3856 [============================>.] - ETA: 0s - loss: 0.9721 - accuracy: 0.5683\n",
      "Epoch 54: val_accuracy improved from 0.56990 to 0.57047, saving model to /home/creeg/projects/audible/notebooks/rating_predictor.h5\n",
      "3856/3856 [==============================] - 15s 4ms/step - loss: 0.9722 - accuracy: 0.5683 - val_loss: 0.9629 - val_accuracy: 0.5705 - lr: 2.0000e-04\n",
      "Epoch 55/200\n",
      "3842/3856 [============================>.] - ETA: 0s - loss: 0.9723 - accuracy: 0.5680\n",
      "Epoch 55: val_accuracy improved from 0.57047 to 0.57072, saving model to /home/creeg/projects/audible/notebooks/rating_predictor.h5\n",
      "3856/3856 [==============================] - 14s 4ms/step - loss: 0.9723 - accuracy: 0.5680 - val_loss: 0.9631 - val_accuracy: 0.5707 - lr: 2.0000e-04\n",
      "Epoch 56/200\n",
      "3843/3856 [============================>.] - ETA: 0s - loss: 0.9714 - accuracy: 0.5695\n",
      "Epoch 56: val_accuracy improved from 0.57072 to 0.57120, saving model to /home/creeg/projects/audible/notebooks/rating_predictor.h5\n",
      "3856/3856 [==============================] - 14s 4ms/step - loss: 0.9715 - accuracy: 0.5695 - val_loss: 0.9620 - val_accuracy: 0.5712 - lr: 2.0000e-04\n",
      "Epoch 57/200\n",
      "3856/3856 [==============================] - ETA: 0s - loss: 0.9715 - accuracy: 0.5704\n",
      "Epoch 57: val_accuracy did not improve from 0.57120\n",
      "3856/3856 [==============================] - 13s 3ms/step - loss: 0.9715 - accuracy: 0.5704 - val_loss: 0.9619 - val_accuracy: 0.5708 - lr: 2.0000e-04\n",
      "Epoch 58/200\n",
      "3851/3856 [============================>.] - ETA: 0s - loss: 0.9709 - accuracy: 0.5690\n",
      "Epoch 58: val_accuracy did not improve from 0.57120\n",
      "3856/3856 [==============================] - 15s 4ms/step - loss: 0.9708 - accuracy: 0.5691 - val_loss: 0.9616 - val_accuracy: 0.5707 - lr: 2.0000e-04\n",
      "Epoch 59/200\n",
      "3855/3856 [============================>.] - ETA: 0s - loss: 0.9704 - accuracy: 0.5688\n",
      "Epoch 59: val_accuracy did not improve from 0.57120\n",
      "3856/3856 [==============================] - 14s 4ms/step - loss: 0.9703 - accuracy: 0.5688 - val_loss: 0.9615 - val_accuracy: 0.5692 - lr: 2.0000e-04\n",
      "Epoch 60/200\n",
      "3847/3856 [============================>.] - ETA: 0s - loss: 0.9694 - accuracy: 0.5694\n",
      "Epoch 60: val_accuracy improved from 0.57120 to 0.57132, saving model to /home/creeg/projects/audible/notebooks/rating_predictor.h5\n",
      "3856/3856 [==============================] - 14s 4ms/step - loss: 0.9694 - accuracy: 0.5694 - val_loss: 0.9614 - val_accuracy: 0.5713 - lr: 2.0000e-04\n",
      "Epoch 61/200\n",
      "3840/3856 [============================>.] - ETA: 0s - loss: 0.9696 - accuracy: 0.5697\n",
      "Epoch 61: val_accuracy did not improve from 0.57132\n",
      "3856/3856 [==============================] - 16s 4ms/step - loss: 0.9696 - accuracy: 0.5698 - val_loss: 0.9608 - val_accuracy: 0.5706 - lr: 2.0000e-04\n",
      "Epoch 62/200\n",
      "3840/3856 [============================>.] - ETA: 0s - loss: 0.9687 - accuracy: 0.5703\n",
      "Epoch 62: val_accuracy did not improve from 0.57132\n",
      "3856/3856 [==============================] - 14s 4ms/step - loss: 0.9684 - accuracy: 0.5703 - val_loss: 0.9607 - val_accuracy: 0.5705 - lr: 2.0000e-04\n",
      "Epoch 63/200\n",
      "3845/3856 [============================>.] - ETA: 0s - loss: 0.9681 - accuracy: 0.5696\n",
      "Epoch 63: val_accuracy improved from 0.57132 to 0.57138, saving model to /home/creeg/projects/audible/notebooks/rating_predictor.h5\n",
      "3856/3856 [==============================] - 14s 4ms/step - loss: 0.9683 - accuracy: 0.5695 - val_loss: 0.9611 - val_accuracy: 0.5714 - lr: 2.0000e-04\n",
      "Epoch 64/200\n",
      "3843/3856 [============================>.] - ETA: 0s - loss: 0.9683 - accuracy: 0.5699\n",
      "Epoch 64: val_accuracy improved from 0.57138 to 0.57217, saving model to /home/creeg/projects/audible/notebooks/rating_predictor.h5\n",
      "3856/3856 [==============================] - 15s 4ms/step - loss: 0.9682 - accuracy: 0.5699 - val_loss: 0.9615 - val_accuracy: 0.5722 - lr: 2.0000e-04\n",
      "Epoch 65/200\n",
      "3842/3856 [============================>.] - ETA: 0s - loss: 0.9675 - accuracy: 0.5716\n",
      "Epoch 65: val_accuracy did not improve from 0.57217\n",
      "3856/3856 [==============================] - 16s 4ms/step - loss: 0.9677 - accuracy: 0.5715 - val_loss: 0.9608 - val_accuracy: 0.5712 - lr: 2.0000e-04\n",
      "Epoch 66/200\n",
      "3845/3856 [============================>.] - ETA: 0s - loss: 0.9681 - accuracy: 0.5703\n",
      "Epoch 66: val_accuracy did not improve from 0.57217\n",
      "3856/3856 [==============================] - 14s 4ms/step - loss: 0.9678 - accuracy: 0.5705 - val_loss: 0.9614 - val_accuracy: 0.5703 - lr: 2.0000e-04\n",
      "Epoch 67/200\n",
      "3845/3856 [============================>.] - ETA: 0s - loss: 0.9670 - accuracy: 0.5695\n",
      "Epoch 67: val_accuracy did not improve from 0.57217\n",
      "3856/3856 [==============================] - 14s 4ms/step - loss: 0.9672 - accuracy: 0.5694 - val_loss: 0.9602 - val_accuracy: 0.5704 - lr: 2.0000e-04\n",
      "Epoch 68/200\n",
      "3856/3856 [==============================] - ETA: 0s - loss: 0.9680 - accuracy: 0.5691\n",
      "Epoch 68: val_accuracy did not improve from 0.57217\n",
      "3856/3856 [==============================] - 15s 4ms/step - loss: 0.9680 - accuracy: 0.5691 - val_loss: 0.9606 - val_accuracy: 0.5693 - lr: 2.0000e-04\n",
      "Epoch 69/200\n",
      "3851/3856 [============================>.] - ETA: 0s - loss: 0.9677 - accuracy: 0.5702\n",
      "Epoch 69: val_accuracy did not improve from 0.57217\n",
      "3856/3856 [==============================] - 14s 4ms/step - loss: 0.9677 - accuracy: 0.5702 - val_loss: 0.9611 - val_accuracy: 0.5705 - lr: 2.0000e-04\n",
      "Epoch 70/200\n",
      "3856/3856 [==============================] - ETA: 0s - loss: 0.9674 - accuracy: 0.5696\n",
      "Epoch 70: val_accuracy did not improve from 0.57217\n",
      "3856/3856 [==============================] - 15s 4ms/step - loss: 0.9674 - accuracy: 0.5696 - val_loss: 0.9605 - val_accuracy: 0.5705 - lr: 2.0000e-04\n",
      "Epoch 71/200\n",
      "3842/3856 [============================>.] - ETA: 0s - loss: 0.9664 - accuracy: 0.5698\n",
      "Epoch 71: val_accuracy did not improve from 0.57217\n",
      "3856/3856 [==============================] - 16s 4ms/step - loss: 0.9665 - accuracy: 0.5699 - val_loss: 0.9595 - val_accuracy: 0.5700 - lr: 2.0000e-04\n",
      "Epoch 72/200\n",
      "3854/3856 [============================>.] - ETA: 0s - loss: 0.9664 - accuracy: 0.5701\n",
      "Epoch 72: val_accuracy did not improve from 0.57217\n",
      "3856/3856 [==============================] - 15s 4ms/step - loss: 0.9665 - accuracy: 0.5701 - val_loss: 0.9614 - val_accuracy: 0.5695 - lr: 2.0000e-04\n",
      "Epoch 73/200\n",
      "3842/3856 [============================>.] - ETA: 0s - loss: 0.9673 - accuracy: 0.5701\n",
      "Epoch 73: val_accuracy did not improve from 0.57217\n",
      "3856/3856 [==============================] - 15s 4ms/step - loss: 0.9675 - accuracy: 0.5699 - val_loss: 0.9600 - val_accuracy: 0.5721 - lr: 2.0000e-04\n",
      "Epoch 74/200\n",
      "3843/3856 [============================>.] - ETA: 0s - loss: 0.9661 - accuracy: 0.5707\n",
      "Epoch 74: val_accuracy did not improve from 0.57217\n",
      "3856/3856 [==============================] - 15s 4ms/step - loss: 0.9662 - accuracy: 0.5706 - val_loss: 0.9612 - val_accuracy: 0.5706 - lr: 2.0000e-04\n",
      "Epoch 75/200\n",
      "3848/3856 [============================>.] - ETA: 0s - loss: 0.9657 - accuracy: 0.5720\n",
      "Epoch 75: val_accuracy improved from 0.57217 to 0.57223, saving model to /home/creeg/projects/audible/notebooks/rating_predictor.h5\n",
      "3856/3856 [==============================] - 15s 4ms/step - loss: 0.9655 - accuracy: 0.5721 - val_loss: 0.9601 - val_accuracy: 0.5722 - lr: 2.0000e-04\n",
      "Epoch 76/200\n",
      "3846/3856 [============================>.] - ETA: 0s - loss: 0.9659 - accuracy: 0.5720\n",
      "Epoch 76: val_accuracy did not improve from 0.57223\n",
      "3856/3856 [==============================] - 14s 4ms/step - loss: 0.9659 - accuracy: 0.5720 - val_loss: 0.9602 - val_accuracy: 0.5707 - lr: 2.0000e-04\n",
      "Epoch 77/200\n",
      "3854/3856 [============================>.] - ETA: 0s - loss: 0.9650 - accuracy: 0.5717\n",
      "Epoch 77: val_accuracy improved from 0.57223 to 0.57244, saving model to /home/creeg/projects/audible/notebooks/rating_predictor.h5\n",
      "3856/3856 [==============================] - 15s 4ms/step - loss: 0.9650 - accuracy: 0.5716 - val_loss: 0.9601 - val_accuracy: 0.5724 - lr: 2.0000e-04\n"
     ]
    },
    {
     "name": "stdout",
     "output_type": "stream",
     "text": [
      "Epoch 78/200\n",
      "3840/3856 [============================>.] - ETA: 0s - loss: 0.9655 - accuracy: 0.5710\n",
      "Epoch 78: val_accuracy did not improve from 0.57244\n",
      "3856/3856 [==============================] - 14s 4ms/step - loss: 0.9654 - accuracy: 0.5710 - val_loss: 0.9598 - val_accuracy: 0.5723 - lr: 2.0000e-04\n",
      "Epoch 79/200\n",
      "3842/3856 [============================>.] - ETA: 0s - loss: 0.9661 - accuracy: 0.5696\n",
      "Epoch 79: val_accuracy did not improve from 0.57244\n",
      "3856/3856 [==============================] - 13s 3ms/step - loss: 0.9660 - accuracy: 0.5697 - val_loss: 0.9605 - val_accuracy: 0.5723 - lr: 2.0000e-04\n",
      "Epoch 80/200\n",
      "3851/3856 [============================>.] - ETA: 0s - loss: 0.9647 - accuracy: 0.5709\n",
      "Epoch 80: val_accuracy did not improve from 0.57244\n",
      "3856/3856 [==============================] - 15s 4ms/step - loss: 0.9651 - accuracy: 0.5708 - val_loss: 0.9616 - val_accuracy: 0.5697 - lr: 2.0000e-04\n",
      "Epoch 81/200\n",
      "3843/3856 [============================>.] - ETA: 0s - loss: 0.9652 - accuracy: 0.5709\n",
      "Epoch 81: val_accuracy improved from 0.57244 to 0.57256, saving model to /home/creeg/projects/audible/notebooks/rating_predictor.h5\n",
      "3856/3856 [==============================] - 15s 4ms/step - loss: 0.9652 - accuracy: 0.5710 - val_loss: 0.9598 - val_accuracy: 0.5726 - lr: 2.0000e-04\n",
      "Epoch 82/200\n",
      "3855/3856 [============================>.] - ETA: 0s - loss: 0.9619 - accuracy: 0.5724\n",
      "Epoch 82: val_accuracy improved from 0.57256 to 0.57344, saving model to /home/creeg/projects/audible/notebooks/rating_predictor.h5\n",
      "3856/3856 [==============================] - 14s 4ms/step - loss: 0.9619 - accuracy: 0.5724 - val_loss: 0.9569 - val_accuracy: 0.5734 - lr: 4.0000e-05\n",
      "Epoch 83/200\n",
      "3844/3856 [============================>.] - ETA: 0s - loss: 0.9606 - accuracy: 0.5730\n",
      "Epoch 83: val_accuracy did not improve from 0.57344\n",
      "3856/3856 [==============================] - 14s 4ms/step - loss: 0.9606 - accuracy: 0.5730 - val_loss: 0.9577 - val_accuracy: 0.5714 - lr: 4.0000e-05\n",
      "Epoch 84/200\n",
      "3846/3856 [============================>.] - ETA: 0s - loss: 0.9618 - accuracy: 0.5724\n",
      "Epoch 84: val_accuracy did not improve from 0.57344\n",
      "3856/3856 [==============================] - 15s 4ms/step - loss: 0.9619 - accuracy: 0.5723 - val_loss: 0.9570 - val_accuracy: 0.5734 - lr: 4.0000e-05\n",
      "Epoch 85/200\n",
      "3847/3856 [============================>.] - ETA: 0s - loss: 0.9604 - accuracy: 0.5725\n",
      "Epoch 85: val_accuracy did not improve from 0.57344\n",
      "3856/3856 [==============================] - 15s 4ms/step - loss: 0.9605 - accuracy: 0.5725 - val_loss: 0.9568 - val_accuracy: 0.5726 - lr: 4.0000e-05\n",
      "Epoch 86/200\n",
      "3849/3856 [============================>.] - ETA: 0s - loss: 0.9593 - accuracy: 0.5746\n",
      "Epoch 86: val_accuracy did not improve from 0.57344\n",
      "3856/3856 [==============================] - 14s 4ms/step - loss: 0.9594 - accuracy: 0.5745 - val_loss: 0.9573 - val_accuracy: 0.5718 - lr: 4.0000e-05\n",
      "Epoch 87/200\n",
      "3853/3856 [============================>.] - ETA: 0s - loss: 0.9596 - accuracy: 0.5731\n",
      "Epoch 87: val_accuracy did not improve from 0.57344\n",
      "3856/3856 [==============================] - 15s 4ms/step - loss: 0.9596 - accuracy: 0.5731 - val_loss: 0.9571 - val_accuracy: 0.5731 - lr: 4.0000e-05\n",
      "Epoch 88/200\n",
      "3847/3856 [============================>.] - ETA: 0s - loss: 0.9599 - accuracy: 0.5739\n",
      "Epoch 88: val_accuracy improved from 0.57344 to 0.57347, saving model to /home/creeg/projects/audible/notebooks/rating_predictor.h5\n",
      "3856/3856 [==============================] - 15s 4ms/step - loss: 0.9598 - accuracy: 0.5739 - val_loss: 0.9573 - val_accuracy: 0.5735 - lr: 4.0000e-05\n",
      "Epoch 89/200\n",
      "3848/3856 [============================>.] - ETA: 0s - loss: 0.9604 - accuracy: 0.5726\n",
      "Epoch 89: val_accuracy improved from 0.57347 to 0.57350, saving model to /home/creeg/projects/audible/notebooks/rating_predictor.h5\n",
      "3856/3856 [==============================] - 14s 4ms/step - loss: 0.9606 - accuracy: 0.5725 - val_loss: 0.9571 - val_accuracy: 0.5735 - lr: 4.0000e-05\n",
      "Epoch 90/200\n",
      "3840/3856 [============================>.] - ETA: 0s - loss: 0.9612 - accuracy: 0.5743\n",
      "Epoch 90: val_accuracy improved from 0.57350 to 0.57401, saving model to /home/creeg/projects/audible/notebooks/rating_predictor.h5\n",
      "3856/3856 [==============================] - 14s 4ms/step - loss: 0.9615 - accuracy: 0.5742 - val_loss: 0.9575 - val_accuracy: 0.5740 - lr: 4.0000e-05\n",
      "Epoch 91/200\n",
      "3849/3856 [============================>.] - ETA: 0s - loss: 0.9593 - accuracy: 0.5728\n",
      "Epoch 91: val_accuracy improved from 0.57401 to 0.57410, saving model to /home/creeg/projects/audible/notebooks/rating_predictor.h5\n",
      "3856/3856 [==============================] - 15s 4ms/step - loss: 0.9591 - accuracy: 0.5728 - val_loss: 0.9571 - val_accuracy: 0.5741 - lr: 4.0000e-05\n",
      "Epoch 92/200\n",
      "3853/3856 [============================>.] - ETA: 0s - loss: 0.9603 - accuracy: 0.5735\n",
      "Epoch 92: val_accuracy improved from 0.57410 to 0.57438, saving model to /home/creeg/projects/audible/notebooks/rating_predictor.h5\n",
      "3856/3856 [==============================] - 14s 4ms/step - loss: 0.9604 - accuracy: 0.5735 - val_loss: 0.9568 - val_accuracy: 0.5744 - lr: 4.0000e-05\n",
      "Epoch 93/200\n",
      "3842/3856 [============================>.] - ETA: 0s - loss: 0.9611 - accuracy: 0.5747\n",
      "Epoch 93: val_accuracy did not improve from 0.57438\n",
      "3856/3856 [==============================] - 14s 4ms/step - loss: 0.9612 - accuracy: 0.5744 - val_loss: 0.9566 - val_accuracy: 0.5736 - lr: 4.0000e-05\n",
      "Epoch 94/200\n",
      "3849/3856 [============================>.] - ETA: 0s - loss: 0.9594 - accuracy: 0.5740\n",
      "Epoch 94: val_accuracy did not improve from 0.57438\n",
      "3856/3856 [==============================] - 14s 4ms/step - loss: 0.9595 - accuracy: 0.5739 - val_loss: 0.9568 - val_accuracy: 0.5733 - lr: 4.0000e-05\n",
      "Epoch 95/200\n",
      "3847/3856 [============================>.] - ETA: 0s - loss: 0.9586 - accuracy: 0.5736\n",
      "Epoch 95: val_accuracy did not improve from 0.57438\n",
      "3856/3856 [==============================] - 14s 4ms/step - loss: 0.9585 - accuracy: 0.5736 - val_loss: 0.9566 - val_accuracy: 0.5727 - lr: 4.0000e-05\n",
      "Epoch 96/200\n",
      "3854/3856 [============================>.] - ETA: 0s - loss: 0.9592 - accuracy: 0.5731\n",
      "Epoch 96: val_accuracy did not improve from 0.57438\n",
      "3856/3856 [==============================] - 14s 4ms/step - loss: 0.9592 - accuracy: 0.5731 - val_loss: 0.9567 - val_accuracy: 0.5715 - lr: 4.0000e-05\n",
      "Epoch 97/200\n",
      "3856/3856 [==============================] - ETA: 0s - loss: 0.9598 - accuracy: 0.5733\n",
      "Epoch 97: val_accuracy did not improve from 0.57438\n",
      "3856/3856 [==============================] - 16s 4ms/step - loss: 0.9598 - accuracy: 0.5733 - val_loss: 0.9566 - val_accuracy: 0.5728 - lr: 4.0000e-05\n",
      "Epoch 98/200\n",
      "3840/3856 [============================>.] - ETA: 0s - loss: 0.9586 - accuracy: 0.5744\n",
      "Epoch 98: val_accuracy did not improve from 0.57438\n",
      "3856/3856 [==============================] - 15s 4ms/step - loss: 0.9588 - accuracy: 0.5743 - val_loss: 0.9563 - val_accuracy: 0.5732 - lr: 4.0000e-05\n",
      "Epoch 99/200\n",
      "3856/3856 [==============================] - ETA: 0s - loss: 0.9589 - accuracy: 0.5744\n",
      "Epoch 99: val_accuracy did not improve from 0.57438\n",
      "3856/3856 [==============================] - 15s 4ms/step - loss: 0.9589 - accuracy: 0.5744 - val_loss: 0.9565 - val_accuracy: 0.5736 - lr: 4.0000e-05\n",
      "Epoch 100/200\n",
      "3853/3856 [============================>.] - ETA: 0s - loss: 0.9598 - accuracy: 0.5753\n",
      "Epoch 100: val_accuracy did not improve from 0.57438\n",
      "3856/3856 [==============================] - 15s 4ms/step - loss: 0.9598 - accuracy: 0.5754 - val_loss: 0.9563 - val_accuracy: 0.5727 - lr: 4.0000e-05\n",
      "Epoch 101/200\n",
      "3849/3856 [============================>.] - ETA: 0s - loss: 0.9588 - accuracy: 0.5746\n",
      "Epoch 101: val_accuracy did not improve from 0.57438\n",
      "3856/3856 [==============================] - 14s 4ms/step - loss: 0.9588 - accuracy: 0.5746 - val_loss: 0.9568 - val_accuracy: 0.5721 - lr: 4.0000e-05\n",
      "Epoch 102/200\n",
      "3853/3856 [============================>.] - ETA: 0s - loss: 0.9588 - accuracy: 0.5745\n",
      "Epoch 102: val_accuracy did not improve from 0.57438\n",
      "3856/3856 [==============================] - 15s 4ms/step - loss: 0.9588 - accuracy: 0.5745 - val_loss: 0.9565 - val_accuracy: 0.5728 - lr: 4.0000e-05\n",
      "Epoch 103/200\n",
      "3856/3856 [==============================] - ETA: 0s - loss: 0.9590 - accuracy: 0.5715\n",
      "Epoch 103: val_accuracy did not improve from 0.57438\n",
      "3856/3856 [==============================] - 15s 4ms/step - loss: 0.9590 - accuracy: 0.5715 - val_loss: 0.9566 - val_accuracy: 0.5726 - lr: 4.0000e-05\n",
      "Epoch 104/200\n",
      "3855/3856 [============================>.] - ETA: 0s - loss: 0.9583 - accuracy: 0.5736\n",
      "Epoch 104: val_accuracy did not improve from 0.57438\n",
      "3856/3856 [==============================] - 15s 4ms/step - loss: 0.9582 - accuracy: 0.5737 - val_loss: 0.9566 - val_accuracy: 0.5740 - lr: 4.0000e-05\n",
      "Epoch 105/200\n",
      "3848/3856 [============================>.] - ETA: 0s - loss: 0.9595 - accuracy: 0.5741\n",
      "Epoch 105: val_accuracy did not improve from 0.57438\n",
      "3856/3856 [==============================] - 14s 4ms/step - loss: 0.9596 - accuracy: 0.5740 - val_loss: 0.9569 - val_accuracy: 0.5738 - lr: 4.0000e-05\n",
      "Epoch 106/200\n",
      "3851/3856 [============================>.] - ETA: 0s - loss: 0.9603 - accuracy: 0.5733\n",
      "Epoch 106: val_accuracy did not improve from 0.57438\n",
      "3856/3856 [==============================] - 14s 4ms/step - loss: 0.9602 - accuracy: 0.5733 - val_loss: 0.9565 - val_accuracy: 0.5725 - lr: 4.0000e-05\n",
      "Epoch 107/200\n",
      "3841/3856 [============================>.] - ETA: 0s - loss: 0.9581 - accuracy: 0.5753\n",
      "Epoch 107: val_accuracy did not improve from 0.57438\n",
      "3856/3856 [==============================] - 15s 4ms/step - loss: 0.9578 - accuracy: 0.5754 - val_loss: 0.9564 - val_accuracy: 0.5728 - lr: 4.0000e-05\n",
      "Epoch 108/200\n",
      "3843/3856 [============================>.] - ETA: 0s - loss: 0.9597 - accuracy: 0.5734\n",
      "Epoch 108: val_accuracy did not improve from 0.57438\n",
      "3856/3856 [==============================] - 14s 4ms/step - loss: 0.9596 - accuracy: 0.5734 - val_loss: 0.9564 - val_accuracy: 0.5731 - lr: 4.0000e-05\n",
      "Epoch 109/200\n",
      "3856/3856 [==============================] - ETA: 0s - loss: 0.9583 - accuracy: 0.5745\n",
      "Epoch 109: val_accuracy did not improve from 0.57438\n",
      "3856/3856 [==============================] - 17s 4ms/step - loss: 0.9583 - accuracy: 0.5745 - val_loss: 0.9567 - val_accuracy: 0.5722 - lr: 8.0000e-06\n",
      "Epoch 110/200\n",
      "3855/3856 [============================>.] - ETA: 0s - loss: 0.9570 - accuracy: 0.5770\n",
      "Epoch 110: val_accuracy did not improve from 0.57438\n",
      "3856/3856 [==============================] - 15s 4ms/step - loss: 0.9570 - accuracy: 0.5770 - val_loss: 0.9564 - val_accuracy: 0.5726 - lr: 8.0000e-06\n",
      "Epoch 111/200\n",
      "3847/3856 [============================>.] - ETA: 0s - loss: 0.9579 - accuracy: 0.5749\n",
      "Epoch 111: val_accuracy did not improve from 0.57438\n",
      "3856/3856 [==============================] - 14s 4ms/step - loss: 0.9580 - accuracy: 0.5749 - val_loss: 0.9562 - val_accuracy: 0.5725 - lr: 8.0000e-06\n",
      "Epoch 112/200\n",
      "3854/3856 [============================>.] - ETA: 0s - loss: 0.9583 - accuracy: 0.5757\n",
      "Epoch 112: val_accuracy did not improve from 0.57438\n",
      "3856/3856 [==============================] - 14s 4ms/step - loss: 0.9582 - accuracy: 0.5757 - val_loss: 0.9560 - val_accuracy: 0.5726 - lr: 8.0000e-06\n",
      "Epoch 113/200\n",
      "3856/3856 [==============================] - ETA: 0s - loss: 0.9586 - accuracy: 0.5731\n",
      "Epoch 113: val_accuracy did not improve from 0.57438\n",
      "3856/3856 [==============================] - 16s 4ms/step - loss: 0.9586 - accuracy: 0.5731 - val_loss: 0.9562 - val_accuracy: 0.5725 - lr: 8.0000e-06\n",
      "Epoch 114/200\n",
      "3843/3856 [============================>.] - ETA: 0s - loss: 0.9575 - accuracy: 0.5755\n",
      "Epoch 114: val_accuracy did not improve from 0.57438\n",
      "3856/3856 [==============================] - 16s 4ms/step - loss: 0.9576 - accuracy: 0.5755 - val_loss: 0.9563 - val_accuracy: 0.5732 - lr: 8.0000e-06\n",
      "Epoch 115/200\n",
      "3840/3856 [============================>.] - ETA: 0s - loss: 0.9576 - accuracy: 0.5749\n",
      "Epoch 115: val_accuracy did not improve from 0.57438\n",
      "3856/3856 [==============================] - 15s 4ms/step - loss: 0.9575 - accuracy: 0.5749 - val_loss: 0.9560 - val_accuracy: 0.5727 - lr: 8.0000e-06\n",
      "Epoch 116/200\n",
      "3849/3856 [============================>.] - ETA: 0s - loss: 0.9584 - accuracy: 0.5748\n",
      "Epoch 116: val_accuracy did not improve from 0.57438\n",
      "3856/3856 [==============================] - 14s 4ms/step - loss: 0.9585 - accuracy: 0.5747 - val_loss: 0.9561 - val_accuracy: 0.5731 - lr: 8.0000e-06\n",
      "Epoch 117/200\n",
      "3845/3856 [============================>.] - ETA: 0s - loss: 0.9559 - accuracy: 0.5750\n",
      "Epoch 117: val_accuracy did not improve from 0.57438\n",
      "3856/3856 [==============================] - 16s 4ms/step - loss: 0.9560 - accuracy: 0.5750 - val_loss: 0.9564 - val_accuracy: 0.5738 - lr: 8.0000e-06\n",
      "Epoch 118/200\n",
      "3851/3856 [============================>.] - ETA: 0s - loss: 0.9569 - accuracy: 0.5765\n",
      "Epoch 118: val_accuracy did not improve from 0.57438\n",
      "3856/3856 [==============================] - 16s 4ms/step - loss: 0.9567 - accuracy: 0.5766 - val_loss: 0.9561 - val_accuracy: 0.5733 - lr: 8.0000e-06\n",
      "Epoch 119/200\n",
      "3853/3856 [============================>.] - ETA: 0s - loss: 0.9586 - accuracy: 0.5743\n",
      "Epoch 119: val_accuracy did not improve from 0.57438\n",
      "3856/3856 [==============================] - 15s 4ms/step - loss: 0.9586 - accuracy: 0.5742 - val_loss: 0.9564 - val_accuracy: 0.5729 - lr: 8.0000e-06\n",
      "Epoch 120/200\n",
      "3856/3856 [==============================] - ETA: 0s - loss: 0.9578 - accuracy: 0.5746\n",
      "Epoch 120: val_accuracy did not improve from 0.57438\n",
      "3856/3856 [==============================] - 14s 4ms/step - loss: 0.9578 - accuracy: 0.5746 - val_loss: 0.9560 - val_accuracy: 0.5731 - lr: 8.0000e-06\n",
      "Epoch 121/200\n",
      "3851/3856 [============================>.] - ETA: 0s - loss: 0.9570 - accuracy: 0.5751\n",
      "Epoch 121: val_accuracy did not improve from 0.57438\n",
      "3856/3856 [==============================] - 14s 4ms/step - loss: 0.9570 - accuracy: 0.5751 - val_loss: 0.9561 - val_accuracy: 0.5729 - lr: 8.0000e-06\n",
      "Epoch 122/200\n",
      "3852/3856 [============================>.] - ETA: 0s - loss: 0.9551 - accuracy: 0.5745\n",
      "Epoch 122: val_accuracy did not improve from 0.57438\n",
      "3856/3856 [==============================] - 15s 4ms/step - loss: 0.9552 - accuracy: 0.5744 - val_loss: 0.9560 - val_accuracy: 0.5727 - lr: 8.0000e-06\n",
      "Epoch 123/200\n",
      "3840/3856 [============================>.] - ETA: 0s - loss: 0.9582 - accuracy: 0.5743\n",
      "Epoch 123: val_accuracy did not improve from 0.57438\n",
      "3856/3856 [==============================] - 15s 4ms/step - loss: 0.9582 - accuracy: 0.5741 - val_loss: 0.9560 - val_accuracy: 0.5730 - lr: 1.6000e-06\n",
      "Epoch 124/200\n",
      "3843/3856 [============================>.] - ETA: 0s - loss: 0.9566 - accuracy: 0.5743\n",
      "Epoch 124: val_accuracy did not improve from 0.57438\n",
      "3856/3856 [==============================] - 15s 4ms/step - loss: 0.9566 - accuracy: 0.5744 - val_loss: 0.9559 - val_accuracy: 0.5731 - lr: 1.6000e-06\n",
      "Epoch 125/200\n",
      "3842/3856 [============================>.] - ETA: 0s - loss: 0.9573 - accuracy: 0.5742\n",
      "Epoch 125: val_accuracy did not improve from 0.57438\n",
      "3856/3856 [==============================] - 14s 4ms/step - loss: 0.9572 - accuracy: 0.5743 - val_loss: 0.9562 - val_accuracy: 0.5733 - lr: 1.6000e-06\n",
      "Epoch 126/200\n",
      "3843/3856 [============================>.] - ETA: 0s - loss: 0.9583 - accuracy: 0.5747\n",
      "Epoch 126: val_accuracy did not improve from 0.57438\n",
      "3856/3856 [==============================] - 14s 4ms/step - loss: 0.9581 - accuracy: 0.5748 - val_loss: 0.9561 - val_accuracy: 0.5732 - lr: 1.6000e-06\n",
      "Epoch 127/200\n",
      "3854/3856 [============================>.] - ETA: 0s - loss: 0.9583 - accuracy: 0.5745\n",
      "Epoch 127: val_accuracy did not improve from 0.57438\n",
      "3856/3856 [==============================] - 14s 4ms/step - loss: 0.9582 - accuracy: 0.5745 - val_loss: 0.9561 - val_accuracy: 0.5727 - lr: 1.6000e-06\n",
      "Epoch 128/200\n",
      "3847/3856 [============================>.] - ETA: 0s - loss: 0.9568 - accuracy: 0.5745\n",
      "Epoch 128: val_accuracy did not improve from 0.57438\n",
      "3856/3856 [==============================] - 14s 4ms/step - loss: 0.9569 - accuracy: 0.5746 - val_loss: 0.9562 - val_accuracy: 0.5730 - lr: 1.6000e-06\n",
      "Epoch 129/200\n",
      "3856/3856 [==============================] - ETA: 0s - loss: 0.9561 - accuracy: 0.5757\n",
      "Epoch 129: val_accuracy did not improve from 0.57438\n",
      "3856/3856 [==============================] - 14s 4ms/step - loss: 0.9561 - accuracy: 0.5757 - val_loss: 0.9562 - val_accuracy: 0.5733 - lr: 1.6000e-06\n"
     ]
    },
    {
     "name": "stdout",
     "output_type": "stream",
     "text": [
      "Epoch 130/200\n",
      "3850/3856 [============================>.] - ETA: 0s - loss: 0.9577 - accuracy: 0.5756\n",
      "Epoch 130: val_accuracy did not improve from 0.57438\n",
      "3856/3856 [==============================] - 15s 4ms/step - loss: 0.9578 - accuracy: 0.5755 - val_loss: 0.9561 - val_accuracy: 0.5734 - lr: 1.6000e-06\n",
      "Epoch 131/200\n",
      "3854/3856 [============================>.] - ETA: 0s - loss: 0.9581 - accuracy: 0.5745\n",
      "Epoch 131: val_accuracy did not improve from 0.57438\n",
      "3856/3856 [==============================] - 14s 4ms/step - loss: 0.9581 - accuracy: 0.5745 - val_loss: 0.9563 - val_accuracy: 0.5732 - lr: 1.6000e-06\n",
      "Epoch 132/200\n",
      "3855/3856 [============================>.] - ETA: 0s - loss: 0.9570 - accuracy: 0.5750\n",
      "Epoch 132: val_accuracy did not improve from 0.57438\n",
      "3856/3856 [==============================] - 16s 4ms/step - loss: 0.9570 - accuracy: 0.5750 - val_loss: 0.9560 - val_accuracy: 0.5730 - lr: 1.6000e-06\n",
      "Epoch 133/200\n",
      "3846/3856 [============================>.] - ETA: 0s - loss: 0.9579 - accuracy: 0.5744\n",
      "Epoch 133: val_accuracy did not improve from 0.57438\n",
      "3856/3856 [==============================] - 15s 4ms/step - loss: 0.9579 - accuracy: 0.5744 - val_loss: 0.9562 - val_accuracy: 0.5726 - lr: 3.2000e-07\n",
      "Epoch 134/200\n",
      "3848/3856 [============================>.] - ETA: 0s - loss: 0.9565 - accuracy: 0.5745\n",
      "Epoch 134: val_accuracy did not improve from 0.57438\n",
      "3856/3856 [==============================] - 14s 4ms/step - loss: 0.9568 - accuracy: 0.5744 - val_loss: 0.9558 - val_accuracy: 0.5732 - lr: 3.2000e-07\n",
      "Epoch 135/200\n",
      "3849/3856 [============================>.] - ETA: 0s - loss: 0.9563 - accuracy: 0.5746\n",
      "Epoch 135: val_accuracy did not improve from 0.57438\n",
      "3856/3856 [==============================] - 14s 4ms/step - loss: 0.9564 - accuracy: 0.5745 - val_loss: 0.9562 - val_accuracy: 0.5730 - lr: 3.2000e-07\n",
      "Epoch 136/200\n",
      "3856/3856 [==============================] - ETA: 0s - loss: 0.9564 - accuracy: 0.5758\n",
      "Epoch 136: val_accuracy did not improve from 0.57438\n",
      "3856/3856 [==============================] - 16s 4ms/step - loss: 0.9564 - accuracy: 0.5758 - val_loss: 0.9560 - val_accuracy: 0.5735 - lr: 3.2000e-07\n",
      "Epoch 137/200\n",
      "3843/3856 [============================>.] - ETA: 0s - loss: 0.9572 - accuracy: 0.5742\n",
      "Epoch 137: val_accuracy did not improve from 0.57438\n",
      "3856/3856 [==============================] - 15s 4ms/step - loss: 0.9571 - accuracy: 0.5743 - val_loss: 0.9564 - val_accuracy: 0.5730 - lr: 3.2000e-07\n",
      "Epoch 138/200\n",
      "3855/3856 [============================>.] - ETA: 0s - loss: 0.9567 - accuracy: 0.5753\n",
      "Epoch 138: val_accuracy did not improve from 0.57438\n",
      "3856/3856 [==============================] - 14s 4ms/step - loss: 0.9567 - accuracy: 0.5753 - val_loss: 0.9562 - val_accuracy: 0.5730 - lr: 3.2000e-07\n",
      "Epoch 139/200\n",
      "3845/3856 [============================>.] - ETA: 0s - loss: 0.9575 - accuracy: 0.5760\n",
      "Epoch 139: val_accuracy did not improve from 0.57438\n",
      "3856/3856 [==============================] - 16s 4ms/step - loss: 0.9573 - accuracy: 0.5760 - val_loss: 0.9564 - val_accuracy: 0.5732 - lr: 3.2000e-07\n",
      "Epoch 140/200\n",
      "3844/3856 [============================>.] - ETA: 0s - loss: 0.9555 - accuracy: 0.5761\n",
      "Epoch 140: val_accuracy did not improve from 0.57438\n",
      "3856/3856 [==============================] - 14s 4ms/step - loss: 0.9556 - accuracy: 0.5761 - val_loss: 0.9560 - val_accuracy: 0.5726 - lr: 3.2000e-07\n",
      "Epoch 141/200\n",
      "3851/3856 [============================>.] - ETA: 0s - loss: 0.9584 - accuracy: 0.5742\n",
      "Epoch 141: val_accuracy did not improve from 0.57438\n",
      "3856/3856 [==============================] - 15s 4ms/step - loss: 0.9585 - accuracy: 0.5742 - val_loss: 0.9561 - val_accuracy: 0.5729 - lr: 3.2000e-07\n",
      "Epoch 142/200\n",
      "3841/3856 [============================>.] - ETA: 0s - loss: 0.9576 - accuracy: 0.5733\n",
      "Epoch 142: val_accuracy did not improve from 0.57438\n",
      "3856/3856 [==============================] - 15s 4ms/step - loss: 0.9573 - accuracy: 0.5736 - val_loss: 0.9565 - val_accuracy: 0.5724 - lr: 3.2000e-07\n",
      "Epoch 143/200\n",
      "3851/3856 [============================>.] - ETA: 0s - loss: 0.9578 - accuracy: 0.5752\n",
      "Epoch 143: val_accuracy did not improve from 0.57438\n",
      "3856/3856 [==============================] - 14s 4ms/step - loss: 0.9577 - accuracy: 0.5753 - val_loss: 0.9560 - val_accuracy: 0.5733 - lr: 3.2000e-07\n",
      "Epoch 144/200\n",
      "3851/3856 [============================>.] - ETA: 0s - loss: 0.9578 - accuracy: 0.5750\n",
      "Epoch 144: val_accuracy did not improve from 0.57438\n",
      "3856/3856 [==============================] - 15s 4ms/step - loss: 0.9578 - accuracy: 0.5750 - val_loss: 0.9561 - val_accuracy: 0.5736 - lr: 3.2000e-07\n",
      "Epoch 145/200\n",
      "3847/3856 [============================>.] - ETA: 0s - loss: 0.9576 - accuracy: 0.5750\n",
      "Epoch 145: val_accuracy did not improve from 0.57438\n",
      "3856/3856 [==============================] - 15s 4ms/step - loss: 0.9577 - accuracy: 0.5750 - val_loss: 0.9560 - val_accuracy: 0.5728 - lr: 6.4000e-08\n",
      "Epoch 146/200\n",
      "3841/3856 [============================>.] - ETA: 0s - loss: 0.9566 - accuracy: 0.5748\n",
      "Epoch 146: val_accuracy did not improve from 0.57438\n",
      "3856/3856 [==============================] - 13s 3ms/step - loss: 0.9569 - accuracy: 0.5748 - val_loss: 0.9564 - val_accuracy: 0.5728 - lr: 6.4000e-08\n",
      "Epoch 147/200\n",
      "3846/3856 [============================>.] - ETA: 0s - loss: 0.9558 - accuracy: 0.5748\n",
      "Epoch 147: val_accuracy did not improve from 0.57438\n",
      "3856/3856 [==============================] - 15s 4ms/step - loss: 0.9560 - accuracy: 0.5747 - val_loss: 0.9560 - val_accuracy: 0.5730 - lr: 6.4000e-08\n",
      "Epoch 148/200\n",
      "3856/3856 [==============================] - ETA: 0s - loss: 0.9576 - accuracy: 0.5751\n",
      "Epoch 148: val_accuracy did not improve from 0.57438\n",
      "3856/3856 [==============================] - 15s 4ms/step - loss: 0.9576 - accuracy: 0.5751 - val_loss: 0.9561 - val_accuracy: 0.5732 - lr: 6.4000e-08\n",
      "Epoch 149/200\n",
      "3844/3856 [============================>.] - ETA: 0s - loss: 0.9566 - accuracy: 0.5755\n",
      "Epoch 149: val_accuracy did not improve from 0.57438\n",
      "3856/3856 [==============================] - 15s 4ms/step - loss: 0.9564 - accuracy: 0.5756 - val_loss: 0.9561 - val_accuracy: 0.5736 - lr: 6.4000e-08\n",
      "Epoch 150/200\n",
      "3845/3856 [============================>.] - ETA: 0s - loss: 0.9573 - accuracy: 0.5740\n",
      "Epoch 150: val_accuracy did not improve from 0.57438\n",
      "3856/3856 [==============================] - 14s 4ms/step - loss: 0.9574 - accuracy: 0.5741 - val_loss: 0.9561 - val_accuracy: 0.5735 - lr: 6.4000e-08\n",
      "Epoch 151/200\n",
      "3842/3856 [============================>.] - ETA: 0s - loss: 0.9574 - accuracy: 0.5749\n",
      "Epoch 151: val_accuracy did not improve from 0.57438\n",
      "3856/3856 [==============================] - 14s 4ms/step - loss: 0.9575 - accuracy: 0.5745 - val_loss: 0.9564 - val_accuracy: 0.5728 - lr: 6.4000e-08\n",
      "Epoch 152/200\n",
      "3850/3856 [============================>.] - ETA: 0s - loss: 0.9573 - accuracy: 0.5756\n",
      "Epoch 152: val_accuracy did not improve from 0.57438\n",
      "3856/3856 [==============================] - 15s 4ms/step - loss: 0.9571 - accuracy: 0.5757 - val_loss: 0.9559 - val_accuracy: 0.5734 - lr: 6.4000e-08\n",
      "Epoch 153/200\n",
      "3850/3856 [============================>.] - ETA: 0s - loss: 0.9578 - accuracy: 0.5752\n",
      "Epoch 153: val_accuracy did not improve from 0.57438\n",
      "3856/3856 [==============================] - 15s 4ms/step - loss: 0.9577 - accuracy: 0.5752 - val_loss: 0.9563 - val_accuracy: 0.5730 - lr: 6.4000e-08\n",
      "Epoch 154/200\n",
      "3843/3856 [============================>.] - ETA: 0s - loss: 0.9569 - accuracy: 0.5750\n",
      "Epoch 154: val_accuracy did not improve from 0.57438\n",
      "3856/3856 [==============================] - 15s 4ms/step - loss: 0.9572 - accuracy: 0.5749 - val_loss: 0.9561 - val_accuracy: 0.5731 - lr: 6.4000e-08\n",
      "Epoch 155/200\n",
      "3847/3856 [============================>.] - ETA: 0s - loss: 0.9568 - accuracy: 0.5748\n",
      "Epoch 155: val_accuracy did not improve from 0.57438\n",
      "3856/3856 [==============================] - 15s 4ms/step - loss: 0.9566 - accuracy: 0.5749 - val_loss: 0.9564 - val_accuracy: 0.5727 - lr: 1.2800e-08\n",
      "Epoch 156/200\n",
      "3849/3856 [============================>.] - ETA: 0s - loss: 0.9563 - accuracy: 0.5751\n",
      "Epoch 156: val_accuracy did not improve from 0.57438\n",
      "3856/3856 [==============================] - 14s 4ms/step - loss: 0.9564 - accuracy: 0.5752 - val_loss: 0.9563 - val_accuracy: 0.5733 - lr: 1.2800e-08\n"
     ]
    },
    {
     "name": "stdout",
     "output_type": "stream",
     "text": [
      "Epoch 157/200\n",
      "3840/3856 [============================>.] - ETA: 0s - loss: 0.9581 - accuracy: 0.5755\n",
      "Epoch 157: val_accuracy did not improve from 0.57438\n",
      "3856/3856 [==============================] - 15s 4ms/step - loss: 0.9581 - accuracy: 0.5755 - val_loss: 0.9560 - val_accuracy: 0.5730 - lr: 1.2800e-08\n",
      "Epoch 158/200\n",
      "3845/3856 [============================>.] - ETA: 0s - loss: 0.9569 - accuracy: 0.5740\n",
      "Epoch 158: val_accuracy did not improve from 0.57438\n",
      "3856/3856 [==============================] - 15s 4ms/step - loss: 0.9567 - accuracy: 0.5742 - val_loss: 0.9561 - val_accuracy: 0.5730 - lr: 1.2800e-08\n",
      "Epoch 159/200\n",
      "3841/3856 [============================>.] - ETA: 0s - loss: 0.9566 - accuracy: 0.5756\n",
      "Epoch 159: val_accuracy did not improve from 0.57438\n",
      "3856/3856 [==============================] - 15s 4ms/step - loss: 0.9565 - accuracy: 0.5758 - val_loss: 0.9562 - val_accuracy: 0.5730 - lr: 1.2800e-08\n",
      "Epoch 160/200\n",
      "3856/3856 [==============================] - ETA: 0s - loss: 0.9582 - accuracy: 0.5730\n",
      "Epoch 160: val_accuracy did not improve from 0.57438\n",
      "3856/3856 [==============================] - 15s 4ms/step - loss: 0.9582 - accuracy: 0.5730 - val_loss: 0.9562 - val_accuracy: 0.5733 - lr: 1.2800e-08\n",
      "Epoch 161/200\n",
      "3848/3856 [============================>.] - ETA: 0s - loss: 0.9565 - accuracy: 0.5772\n",
      "Epoch 161: val_accuracy did not improve from 0.57438\n",
      "3856/3856 [==============================] - 14s 4ms/step - loss: 0.9566 - accuracy: 0.5772 - val_loss: 0.9559 - val_accuracy: 0.5733 - lr: 1.2800e-08\n",
      "Epoch 162/200\n",
      "3844/3856 [============================>.] - ETA: 0s - loss: 0.9574 - accuracy: 0.5746\n",
      "Epoch 162: val_accuracy did not improve from 0.57438\n",
      "3856/3856 [==============================] - 14s 4ms/step - loss: 0.9578 - accuracy: 0.5744 - val_loss: 0.9561 - val_accuracy: 0.5737 - lr: 1.2800e-08\n",
      "Epoch 163/200\n",
      "3841/3856 [============================>.] - ETA: 0s - loss: 0.9565 - accuracy: 0.5763\n",
      "Epoch 163: val_accuracy did not improve from 0.57438\n",
      "3856/3856 [==============================] - 14s 4ms/step - loss: 0.9565 - accuracy: 0.5761 - val_loss: 0.9561 - val_accuracy: 0.5729 - lr: 1.2800e-08\n",
      "Epoch 164/200\n",
      "3855/3856 [============================>.] - ETA: 0s - loss: 0.9577 - accuracy: 0.5746\n",
      "Epoch 164: val_accuracy did not improve from 0.57438\n",
      "3856/3856 [==============================] - 16s 4ms/step - loss: 0.9578 - accuracy: 0.5746 - val_loss: 0.9562 - val_accuracy: 0.5735 - lr: 1.2800e-08\n",
      "Epoch 165/200\n",
      "3840/3856 [============================>.] - ETA: 0s - loss: 0.9570 - accuracy: 0.5736\n",
      "Epoch 165: val_accuracy did not improve from 0.57438\n",
      "3856/3856 [==============================] - 16s 4ms/step - loss: 0.9571 - accuracy: 0.5735 - val_loss: 0.9564 - val_accuracy: 0.5731 - lr: 2.5600e-09\n",
      "Epoch 166/200\n",
      "3844/3856 [============================>.] - ETA: 0s - loss: 0.9576 - accuracy: 0.5764\n",
      "Epoch 166: val_accuracy did not improve from 0.57438\n",
      "3856/3856 [==============================] - 14s 4ms/step - loss: 0.9575 - accuracy: 0.5764 - val_loss: 0.9561 - val_accuracy: 0.5733 - lr: 2.5600e-09\n",
      "Epoch 167/200\n",
      "3853/3856 [============================>.] - ETA: 0s - loss: 0.9576 - accuracy: 0.5764\n",
      "Epoch 167: val_accuracy did not improve from 0.57438\n",
      "3856/3856 [==============================] - 14s 4ms/step - loss: 0.9576 - accuracy: 0.5763 - val_loss: 0.9558 - val_accuracy: 0.5735 - lr: 2.5600e-09\n",
      "Epoch 168/200\n",
      "3852/3856 [============================>.] - ETA: 0s - loss: 0.9573 - accuracy: 0.5745\n",
      "Epoch 168: val_accuracy did not improve from 0.57438\n",
      "3856/3856 [==============================] - 14s 4ms/step - loss: 0.9575 - accuracy: 0.5745 - val_loss: 0.9561 - val_accuracy: 0.5728 - lr: 2.5600e-09\n",
      "Epoch 169/200\n",
      "3841/3856 [============================>.] - ETA: 0s - loss: 0.9574 - accuracy: 0.5731\n",
      "Epoch 169: val_accuracy did not improve from 0.57438\n",
      "3856/3856 [==============================] - 15s 4ms/step - loss: 0.9575 - accuracy: 0.5732 - val_loss: 0.9561 - val_accuracy: 0.5731 - lr: 2.5600e-09\n",
      "Epoch 170/200\n",
      "3849/3856 [============================>.] - ETA: 0s - loss: 0.9564 - accuracy: 0.5740\n",
      "Epoch 170: val_accuracy did not improve from 0.57438\n",
      "3856/3856 [==============================] - 15s 4ms/step - loss: 0.9565 - accuracy: 0.5739 - val_loss: 0.9561 - val_accuracy: 0.5736 - lr: 2.5600e-09\n",
      "Epoch 171/200\n",
      "3845/3856 [============================>.] - ETA: 0s - loss: 0.9562 - accuracy: 0.5747\n",
      "Epoch 171: val_accuracy did not improve from 0.57438\n",
      "3856/3856 [==============================] - 14s 4ms/step - loss: 0.9563 - accuracy: 0.5747 - val_loss: 0.9563 - val_accuracy: 0.5727 - lr: 2.5600e-09\n",
      "Epoch 172/200\n",
      "3855/3856 [============================>.] - ETA: 0s - loss: 0.9564 - accuracy: 0.5760\n",
      "Epoch 172: val_accuracy did not improve from 0.57438\n",
      "3856/3856 [==============================] - 15s 4ms/step - loss: 0.9564 - accuracy: 0.5760 - val_loss: 0.9561 - val_accuracy: 0.5727 - lr: 2.5600e-09\n",
      "Epoch 173/200\n",
      "3842/3856 [============================>.] - ETA: 0s - loss: 0.9568 - accuracy: 0.5758\n",
      "Epoch 173: val_accuracy did not improve from 0.57438\n",
      "3856/3856 [==============================] - 16s 4ms/step - loss: 0.9569 - accuracy: 0.5757 - val_loss: 0.9560 - val_accuracy: 0.5734 - lr: 2.5600e-09\n",
      "Epoch 174/200\n",
      "3853/3856 [============================>.] - ETA: 0s - loss: 0.9567 - accuracy: 0.5766\n",
      "Epoch 174: val_accuracy did not improve from 0.57438\n",
      "3856/3856 [==============================] - 16s 4ms/step - loss: 0.9567 - accuracy: 0.5767 - val_loss: 0.9559 - val_accuracy: 0.5732 - lr: 2.5600e-09\n",
      "Epoch 175/200\n",
      "3847/3856 [============================>.] - ETA: 0s - loss: 0.9575 - accuracy: 0.5751\n",
      "Epoch 175: val_accuracy did not improve from 0.57438\n",
      "3856/3856 [==============================] - 15s 4ms/step - loss: 0.9577 - accuracy: 0.5750 - val_loss: 0.9561 - val_accuracy: 0.5731 - lr: 5.1200e-10\n",
      "Epoch 176/200\n",
      "3854/3856 [============================>.] - ETA: 0s - loss: 0.9584 - accuracy: 0.5749\n",
      "Epoch 176: val_accuracy did not improve from 0.57438\n",
      "3856/3856 [==============================] - 15s 4ms/step - loss: 0.9583 - accuracy: 0.5750 - val_loss: 0.9560 - val_accuracy: 0.5734 - lr: 5.1200e-10\n",
      "Epoch 177/200\n",
      "3856/3856 [==============================] - ETA: 0s - loss: 0.9562 - accuracy: 0.5755\n",
      "Epoch 177: val_accuracy did not improve from 0.57438\n",
      "3856/3856 [==============================] - 15s 4ms/step - loss: 0.9562 - accuracy: 0.5755 - val_loss: 0.9559 - val_accuracy: 0.5738 - lr: 5.1200e-10\n",
      "Epoch 178/200\n",
      "3843/3856 [============================>.] - ETA: 0s - loss: 0.9570 - accuracy: 0.5747\n",
      "Epoch 178: val_accuracy did not improve from 0.57438\n",
      "3856/3856 [==============================] - 15s 4ms/step - loss: 0.9570 - accuracy: 0.5746 - val_loss: 0.9561 - val_accuracy: 0.5732 - lr: 5.1200e-10\n",
      "Epoch 179/200\n",
      "3850/3856 [============================>.] - ETA: 0s - loss: 0.9566 - accuracy: 0.5737\n",
      "Epoch 179: val_accuracy did not improve from 0.57438\n",
      "3856/3856 [==============================] - 15s 4ms/step - loss: 0.9567 - accuracy: 0.5737 - val_loss: 0.9561 - val_accuracy: 0.5734 - lr: 5.1200e-10\n",
      "Epoch 180/200\n",
      "3850/3856 [============================>.] - ETA: 0s - loss: 0.9568 - accuracy: 0.5755\n",
      "Epoch 180: val_accuracy did not improve from 0.57438\n",
      "3856/3856 [==============================] - 15s 4ms/step - loss: 0.9568 - accuracy: 0.5755 - val_loss: 0.9559 - val_accuracy: 0.5737 - lr: 5.1200e-10\n",
      "Epoch 181/200\n",
      "3851/3856 [============================>.] - ETA: 0s - loss: 0.9565 - accuracy: 0.5753\n",
      "Epoch 181: val_accuracy did not improve from 0.57438\n",
      "3856/3856 [==============================] - 15s 4ms/step - loss: 0.9564 - accuracy: 0.5754 - val_loss: 0.9562 - val_accuracy: 0.5732 - lr: 5.1200e-10\n",
      "Epoch 182/200\n",
      "3843/3856 [============================>.] - ETA: 0s - loss: 0.9578 - accuracy: 0.5748\n",
      "Epoch 182: val_accuracy did not improve from 0.57438\n",
      "3856/3856 [==============================] - 15s 4ms/step - loss: 0.9577 - accuracy: 0.5748 - val_loss: 0.9560 - val_accuracy: 0.5730 - lr: 5.1200e-10\n",
      "Epoch 183/200\n",
      "3841/3856 [============================>.] - ETA: 0s - loss: 0.9569 - accuracy: 0.5736\n",
      "Epoch 183: val_accuracy did not improve from 0.57438\n",
      "3856/3856 [==============================] - 16s 4ms/step - loss: 0.9567 - accuracy: 0.5737 - val_loss: 0.9563 - val_accuracy: 0.5733 - lr: 5.1200e-10\n"
     ]
    },
    {
     "name": "stdout",
     "output_type": "stream",
     "text": [
      "Epoch 184/200\n",
      "3856/3856 [==============================] - ETA: 0s - loss: 0.9569 - accuracy: 0.5759\n",
      "Epoch 184: val_accuracy did not improve from 0.57438\n",
      "3856/3856 [==============================] - 15s 4ms/step - loss: 0.9569 - accuracy: 0.5759 - val_loss: 0.9561 - val_accuracy: 0.5730 - lr: 5.1200e-10\n",
      "Epoch 185/200\n",
      "3848/3856 [============================>.] - ETA: 0s - loss: 0.9565 - accuracy: 0.5752\n",
      "Epoch 185: val_accuracy did not improve from 0.57438\n",
      "3856/3856 [==============================] - 14s 4ms/step - loss: 0.9568 - accuracy: 0.5751 - val_loss: 0.9560 - val_accuracy: 0.5737 - lr: 1.0240e-10\n",
      "Epoch 186/200\n",
      "3856/3856 [==============================] - ETA: 0s - loss: 0.9569 - accuracy: 0.5753\n",
      "Epoch 186: val_accuracy did not improve from 0.57438\n",
      "3856/3856 [==============================] - 16s 4ms/step - loss: 0.9569 - accuracy: 0.5753 - val_loss: 0.9560 - val_accuracy: 0.5730 - lr: 1.0240e-10\n",
      "Epoch 187/200\n",
      "3856/3856 [==============================] - ETA: 0s - loss: 0.9575 - accuracy: 0.5758\n",
      "Epoch 187: val_accuracy did not improve from 0.57438\n",
      "3856/3856 [==============================] - 14s 4ms/step - loss: 0.9575 - accuracy: 0.5758 - val_loss: 0.9561 - val_accuracy: 0.5732 - lr: 1.0240e-10\n",
      "Epoch 188/200\n",
      "3855/3856 [============================>.] - ETA: 0s - loss: 0.9560 - accuracy: 0.5755\n",
      "Epoch 188: val_accuracy did not improve from 0.57438\n",
      "3856/3856 [==============================] - 16s 4ms/step - loss: 0.9561 - accuracy: 0.5754 - val_loss: 0.9558 - val_accuracy: 0.5739 - lr: 1.0240e-10\n",
      "Epoch 189/200\n",
      "3845/3856 [============================>.] - ETA: 0s - loss: 0.9575 - accuracy: 0.5745\n",
      "Epoch 189: val_accuracy did not improve from 0.57438\n",
      "3856/3856 [==============================] - 15s 4ms/step - loss: 0.9576 - accuracy: 0.5744 - val_loss: 0.9560 - val_accuracy: 0.5735 - lr: 1.0240e-10\n",
      "Epoch 190/200\n",
      "3846/3856 [============================>.] - ETA: 0s - loss: 0.9573 - accuracy: 0.5739\n",
      "Epoch 190: val_accuracy did not improve from 0.57438\n",
      "3856/3856 [==============================] - 15s 4ms/step - loss: 0.9572 - accuracy: 0.5739 - val_loss: 0.9560 - val_accuracy: 0.5731 - lr: 1.0240e-10\n",
      "Epoch 191/200\n",
      "3846/3856 [============================>.] - ETA: 0s - loss: 0.9573 - accuracy: 0.5757\n",
      "Epoch 191: val_accuracy did not improve from 0.57438\n",
      "3856/3856 [==============================] - 15s 4ms/step - loss: 0.9573 - accuracy: 0.5758 - val_loss: 0.9562 - val_accuracy: 0.5733 - lr: 1.0240e-10\n",
      "Epoch 192/200\n",
      "3855/3856 [============================>.] - ETA: 0s - loss: 0.9563 - accuracy: 0.5742\n",
      "Epoch 192: val_accuracy did not improve from 0.57438\n",
      "3856/3856 [==============================] - 14s 4ms/step - loss: 0.9563 - accuracy: 0.5742 - val_loss: 0.9559 - val_accuracy: 0.5733 - lr: 1.0240e-10\n",
      "Epoch 193/200\n",
      "3848/3856 [============================>.] - ETA: 0s - loss: 0.9569 - accuracy: 0.5762\n",
      "Epoch 193: val_accuracy did not improve from 0.57438\n",
      "3856/3856 [==============================] - 15s 4ms/step - loss: 0.9569 - accuracy: 0.5762 - val_loss: 0.9561 - val_accuracy: 0.5728 - lr: 1.0240e-10\n",
      "Epoch 194/200\n",
      "3850/3856 [============================>.] - ETA: 0s - loss: 0.9573 - accuracy: 0.5754\n",
      "Epoch 194: val_accuracy did not improve from 0.57438\n",
      "3856/3856 [==============================] - 14s 4ms/step - loss: 0.9574 - accuracy: 0.5754 - val_loss: 0.9563 - val_accuracy: 0.5731 - lr: 1.0240e-10\n",
      "Epoch 195/200\n",
      "3855/3856 [============================>.] - ETA: 0s - loss: 0.9579 - accuracy: 0.5750\n",
      "Epoch 195: val_accuracy did not improve from 0.57438\n",
      "3856/3856 [==============================] - 14s 4ms/step - loss: 0.9580 - accuracy: 0.5750 - val_loss: 0.9560 - val_accuracy: 0.5735 - lr: 2.0480e-11\n",
      "Epoch 196/200\n",
      "3842/3856 [============================>.] - ETA: 0s - loss: 0.9571 - accuracy: 0.5749\n",
      "Epoch 196: val_accuracy did not improve from 0.57438\n",
      "3856/3856 [==============================] - 15s 4ms/step - loss: 0.9570 - accuracy: 0.5749 - val_loss: 0.9562 - val_accuracy: 0.5731 - lr: 2.0480e-11\n",
      "Epoch 197/200\n",
      "3845/3856 [============================>.] - ETA: 0s - loss: 0.9558 - accuracy: 0.5764\n",
      "Epoch 197: val_accuracy did not improve from 0.57438\n",
      "3856/3856 [==============================] - 15s 4ms/step - loss: 0.9558 - accuracy: 0.5766 - val_loss: 0.9559 - val_accuracy: 0.5730 - lr: 2.0480e-11\n",
      "Epoch 198/200\n",
      "3842/3856 [============================>.] - ETA: 0s - loss: 0.9580 - accuracy: 0.5761\n",
      "Epoch 198: val_accuracy did not improve from 0.57438\n",
      "3856/3856 [==============================] - 15s 4ms/step - loss: 0.9579 - accuracy: 0.5761 - val_loss: 0.9562 - val_accuracy: 0.5734 - lr: 2.0480e-11\n",
      "Epoch 199/200\n",
      "3848/3856 [============================>.] - ETA: 0s - loss: 0.9574 - accuracy: 0.5764\n",
      "Epoch 199: val_accuracy did not improve from 0.57438\n",
      "3856/3856 [==============================] - 15s 4ms/step - loss: 0.9573 - accuracy: 0.5766 - val_loss: 0.9560 - val_accuracy: 0.5728 - lr: 2.0480e-11\n",
      "Epoch 200/200\n",
      "3850/3856 [============================>.] - ETA: 0s - loss: 0.9575 - accuracy: 0.5752\n",
      "Epoch 200: val_accuracy did not improve from 0.57438\n",
      "3856/3856 [==============================] - 14s 4ms/step - loss: 0.9575 - accuracy: 0.5753 - val_loss: 0.9560 - val_accuracy: 0.5729 - lr: 2.0480e-11\n"
     ]
    }
   ],
   "source": [
    "his = rating_predictor.fit(X_train, y_train, epochs=50, batch_size=20, validation_split=0.3, callbacks=cb)\n",
    "rating_predictor.save('rating_predictor.h5')"
   ]
  },
  {
   "cell_type": "code",
   "execution_count": 147,
   "id": "9719ea33",
   "metadata": {},
   "outputs": [
    {
     "name": "stdout",
     "output_type": "stream",
     "text": [
      "861/861 [==============================] - 1s 1ms/step - loss: 0.9631 - accuracy: 0.5735\n",
      " the model accuracy is 0.5734567642211914 \n"
     ]
    }
   ],
   "source": [
    "model_saved = keras.models.load_model('rating_predictor.h5')\n",
    "score = model_saved.evaluate(X_test, y_test)\n",
    "print(f\" the model accuracy is {score[1]} \")"
   ]
  },
  {
   "cell_type": "code",
   "execution_count": 148,
   "id": "a9b94d3f",
   "metadata": {},
   "outputs": [
    {
     "data": {
      "image/png": "[encoded data removed]",
      "text/plain": [
       "<Figure size 432x288 with 1 Axes>"
      ]
     },
     "metadata": {
      "needs_background": "light"
     },
     "output_type": "display_data"
    }
   ],
   "source": [
    "plt.plot(his.history['accuracy'])\n",
    "plt.plot(his.history['val_accuracy'])\n",
    "plt.title('model accuracy')\n",
    "plt.ylabel('accuracy')\n",
    "plt.xlabel('epoch')\n",
    "plt.legend(['train', 'test'], loc='upper left')\n",
    "plt.show()"
   ]
  },
  {
   "cell_type": "code",
   "execution_count": 149,
   "id": "b3d62d8c",
   "metadata": {},
   "outputs": [
    {
     "data": {
      "image/png": "[encoded data removed]",
      "text/plain": [
       "<Figure size 432x288 with 1 Axes>"
      ]
     },
     "metadata": {
      "needs_background": "light"
     },
     "output_type": "display_data"
    }
   ],
   "source": [
    "plt.plot(his.history['loss'])\n",
    "plt.plot(his.history['val_loss'])\n",
    "plt.title('model loss')\n",
    "plt.ylabel('loss')\n",
    "plt.xlabel('epoch')\n",
    "plt.legend(['train', 'test'], loc='upper left')\n",
    "plt.show()"
   ]
  },
  {
   "cell_type": "code",
   "execution_count": 30,
   "id": "d580c3de",
   "metadata": {},
   "outputs": [],
   "source": [
    "rfc=RandomForestClassifier(n_jobs=-1, random_state=42, oob_score = True)"
   ]
  },
  {
   "cell_type": "code",
   "execution_count": 31,
   "id": "5ea3ab4e",
   "metadata": {},
   "outputs": [],
   "source": [
    "param_grid = { \n",
    "    'n_estimators': [200, 500],\n",
    "    'max_features': ['auto', 'sqrt', 'log2'],\n",
    "    'max_depth' : [4,5,6,7,8],\n",
    "    'criterion' :['gini', 'entropy']\n",
    "}"
   ]
  },
  {
   "cell_type": "code",
   "execution_count": 32,
   "id": "c046dd22",
   "metadata": {},
   "outputs": [
    {
     "data": {
      "text/html": [
       "<style>#sk-container-id-1 {color: black;background-color: white;}#sk-container-id-1 pre{padding: 0;}#sk-container-id-1 div.sk-toggleable {background-color: white;}#sk-container-id-1 label.sk-toggleable__label {cursor: pointer;display: block;width: 100%;margin-bottom: 0;padding: 0.3em;box-sizing: border-box;text-align: center;}#sk-container-id-1 label.sk-toggleable__label-arrow:before {content: \"▸\";float: left;margin-right: 0.25em;color: #696969;}#sk-container-id-1 label.sk-toggleable__label-arrow:hover:before {color: black;}#sk-container-id-1 div.sk-estimator:hover label.sk-toggleable__label-arrow:before {color: black;}#sk-container-id-1 div.sk-toggleable__content {max-height: 0;max-width: 0;overflow: hidden;text-align: left;background-color: #f0f8ff;}#sk-container-id-1 div.sk-toggleable__content pre {margin: 0.2em;color: black;border-radius: 0.25em;background-color: #f0f8ff;}#sk-container-id-1 input.sk-toggleable__control:checked~div.sk-toggleable__content {max-height: 200px;max-width: 100%;overflow: auto;}#sk-container-id-1 input.sk-toggleable__control:checked~label.sk-toggleable__label-arrow:before {content: \"▾\";}#sk-container-id-1 div.sk-estimator input.sk-toggleable__control:checked~label.sk-toggleable__label {background-color: #d4ebff;}#sk-container-id-1 div.sk-label input.sk-toggleable__control:checked~label.sk-toggleable__label {background-color: #d4ebff;}#sk-container-id-1 input.sk-hidden--visually {border: 0;clip: rect(1px 1px 1px 1px);clip: rect(1px, 1px, 1px, 1px);height: 1px;margin: -1px;overflow: hidden;padding: 0;position: absolute;width: 1px;}#sk-container-id-1 div.sk-estimator {font-family: monospace;background-color: #f0f8ff;border: 1px dotted black;border-radius: 0.25em;box-sizing: border-box;margin-bottom: 0.5em;}#sk-container-id-1 div.sk-estimator:hover {background-color: #d4ebff;}#sk-container-id-1 div.sk-parallel-item::after {content: \"\";width: 100%;border-bottom: 1px solid gray;flex-grow: 1;}#sk-container-id-1 div.sk-label:hover label.sk-toggleable__label {background-color: #d4ebff;}#sk-container-id-1 div.sk-serial::before {content: \"\";position: absolute;border-left: 1px solid gray;box-sizing: border-box;top: 0;bottom: 0;left: 50%;z-index: 0;}#sk-container-id-1 div.sk-serial {display: flex;flex-direction: column;align-items: center;background-color: white;padding-right: 0.2em;padding-left: 0.2em;position: relative;}#sk-container-id-1 div.sk-item {position: relative;z-index: 1;}#sk-container-id-1 div.sk-parallel {display: flex;align-items: stretch;justify-content: center;background-color: white;position: relative;}#sk-container-id-1 div.sk-item::before, #sk-container-id-1 div.sk-parallel-item::before {content: \"\";position: absolute;border-left: 1px solid gray;box-sizing: border-box;top: 0;bottom: 0;left: 50%;z-index: -1;}#sk-container-id-1 div.sk-parallel-item {display: flex;flex-direction: column;z-index: 1;position: relative;background-color: white;}#sk-container-id-1 div.sk-parallel-item:first-child::after {align-self: flex-end;width: 50%;}#sk-container-id-1 div.sk-parallel-item:last-child::after {align-self: flex-start;width: 50%;}#sk-container-id-1 div.sk-parallel-item:only-child::after {width: 0;}#sk-container-id-1 div.sk-dashed-wrapped {border: 1px dashed gray;margin: 0 0.4em 0.5em 0.4em;box-sizing: border-box;padding-bottom: 0.4em;background-color: white;}#sk-container-id-1 div.sk-label label {font-family: monospace;font-weight: bold;display: inline-block;line-height: 1.2em;}#sk-container-id-1 div.sk-label-container {text-align: center;}#sk-container-id-1 div.sk-container {/* jupyter's `normalize.less` sets `[hidden] { display: none; }` but bootstrap.min.css set `[hidden] { display: none !important; }` so we also need the `!important` here to be able to override the default hidden behavior on the sphinx rendered scikit-learn.org. See: https://github.com/scikit-learn/scikit-learn/issues/21755 */display: inline-block !important;position: relative;}#sk-container-id-1 div.sk-text-repr-fallback {display: none;}</style><div id=\"sk-container-id-1\" class=\"sk-top-container\"><div class=\"sk-text-repr-fallback\"><pre>GridSearchCV(cv=10,\n",
       "             estimator=RandomForestClassifier(n_jobs=-1, oob_score=True,\n",
       "                                              random_state=42),\n",
       "             param_grid={&#x27;criterion&#x27;: [&#x27;gini&#x27;, &#x27;entropy&#x27;],\n",
       "                         &#x27;max_depth&#x27;: [4, 5, 6, 7, 8],\n",
       "                         &#x27;max_features&#x27;: [&#x27;auto&#x27;, &#x27;sqrt&#x27;, &#x27;log2&#x27;],\n",
       "                         &#x27;n_estimators&#x27;: [200, 500]})</pre><b>In a Jupyter environment, please rerun this cell to show the HTML representation or trust the notebook. <br />On GitHub, the HTML representation is unable to render, please try loading this page with nbviewer.org.</b></div><div class=\"sk-container\" hidden><div class=\"sk-item sk-dashed-wrapped\"><div class=\"sk-label-container\"><div class=\"sk-label sk-toggleable\"><input class=\"sk-toggleable__control sk-hidden--visually\" id=\"sk-estimator-id-1\" type=\"checkbox\" ><label for=\"sk-estimator-id-1\" class=\"sk-toggleable__label sk-toggleable__label-arrow\">GridSearchCV</label><div class=\"sk-toggleable__content\"><pre>GridSearchCV(cv=10,\n",
       "             estimator=RandomForestClassifier(n_jobs=-1, oob_score=True,\n",
       "                                              random_state=42),\n",
       "             param_grid={&#x27;criterion&#x27;: [&#x27;gini&#x27;, &#x27;entropy&#x27;],\n",
       "                         &#x27;max_depth&#x27;: [4, 5, 6, 7, 8],\n",
       "                         &#x27;max_features&#x27;: [&#x27;auto&#x27;, &#x27;sqrt&#x27;, &#x27;log2&#x27;],\n",
       "                         &#x27;n_estimators&#x27;: [200, 500]})</pre></div></div></div><div class=\"sk-parallel\"><div class=\"sk-parallel-item\"><div class=\"sk-item\"><div class=\"sk-label-container\"><div class=\"sk-label sk-toggleable\"><input class=\"sk-toggleable__control sk-hidden--visually\" id=\"sk-estimator-id-2\" type=\"checkbox\" ><label for=\"sk-estimator-id-2\" class=\"sk-toggleable__label sk-toggleable__label-arrow\">estimator: RandomForestClassifier</label><div class=\"sk-toggleable__content\"><pre>RandomForestClassifier(n_jobs=-1, oob_score=True, random_state=42)</pre></div></div></div><div class=\"sk-serial\"><div class=\"sk-item\"><div class=\"sk-estimator sk-toggleable\"><input class=\"sk-toggleable__control sk-hidden--visually\" id=\"sk-estimator-id-3\" type=\"checkbox\" ><label for=\"sk-estimator-id-3\" class=\"sk-toggleable__label sk-toggleable__label-arrow\">RandomForestClassifier</label><div class=\"sk-toggleable__content\"><pre>RandomForestClassifier(n_jobs=-1, oob_score=True, random_state=42)</pre></div></div></div></div></div></div></div></div></div></div>"
      ],
      "text/plain": [
       "GridSearchCV(cv=10,\n",
       "             estimator=RandomForestClassifier(n_jobs=-1, oob_score=True,\n",
       "                                              random_state=42),\n",
       "             param_grid={'criterion': ['gini', 'entropy'],\n",
       "                         'max_depth': [4, 5, 6, 7, 8],\n",
       "                         'max_features': ['auto', 'sqrt', 'log2'],\n",
       "                         'n_estimators': [200, 500]})"
      ]
     },
     "execution_count": 32,
     "metadata": {},
     "output_type": "execute_result"
    }
   ],
   "source": [
    "CV_rfc = GridSearchCV(estimator=rfc, param_grid=param_grid, cv= 10)\n",
    "CV_rfc.fit(X_train, y_train)"
   ]
  },
  {
   "cell_type": "code",
   "execution_count": 33,
   "id": "cbf22f2c",
   "metadata": {},
   "outputs": [
    {
     "data": {
      "text/plain": [
       "{'criterion': 'gini',\n",
       " 'max_depth': 8,\n",
       " 'max_features': 'auto',\n",
       " 'n_estimators': 500}"
      ]
     },
     "execution_count": 33,
     "metadata": {},
     "output_type": "execute_result"
    }
   ],
   "source": [
    "CV_rfc.best_params_"
   ]
  },
  {
   "cell_type": "code",
   "execution_count": 34,
   "id": "ec3e4454",
   "metadata": {},
   "outputs": [],
   "source": [
    "rfc1=RandomForestClassifier(n_jobs=-1\n",
    "                            , random_state=42\n",
    "                            , max_features='auto'\n",
    "                            , n_estimators= 500\n",
    "                            , max_depth=8\n",
    "                            , criterion='gini'\n",
    "                            , oob_score=True)"
   ]
  },
  {
   "cell_type": "code",
   "execution_count": 36,
   "id": "1b1f78b0",
   "metadata": {},
   "outputs": [
    {
     "data": {
      "text/html": [
       "<style>#sk-container-id-2 {color: black;background-color: white;}#sk-container-id-2 pre{padding: 0;}#sk-container-id-2 div.sk-toggleable {background-color: white;}#sk-container-id-2 label.sk-toggleable__label {cursor: pointer;display: block;width: 100%;margin-bottom: 0;padding: 0.3em;box-sizing: border-box;text-align: center;}#sk-container-id-2 label.sk-toggleable__label-arrow:before {content: \"▸\";float: left;margin-right: 0.25em;color: #696969;}#sk-container-id-2 label.sk-toggleable__label-arrow:hover:before {color: black;}#sk-container-id-2 div.sk-estimator:hover label.sk-toggleable__label-arrow:before {color: black;}#sk-container-id-2 div.sk-toggleable__content {max-height: 0;max-width: 0;overflow: hidden;text-align: left;background-color: #f0f8ff;}#sk-container-id-2 div.sk-toggleable__content pre {margin: 0.2em;color: black;border-radius: 0.25em;background-color: #f0f8ff;}#sk-container-id-2 input.sk-toggleable__control:checked~div.sk-toggleable__content {max-height: 200px;max-width: 100%;overflow: auto;}#sk-container-id-2 input.sk-toggleable__control:checked~label.sk-toggleable__label-arrow:before {content: \"▾\";}#sk-container-id-2 div.sk-estimator input.sk-toggleable__control:checked~label.sk-toggleable__label {background-color: #d4ebff;}#sk-container-id-2 div.sk-label input.sk-toggleable__control:checked~label.sk-toggleable__label {background-color: #d4ebff;}#sk-container-id-2 input.sk-hidden--visually {border: 0;clip: rect(1px 1px 1px 1px);clip: rect(1px, 1px, 1px, 1px);height: 1px;margin: -1px;overflow: hidden;padding: 0;position: absolute;width: 1px;}#sk-container-id-2 div.sk-estimator {font-family: monospace;background-color: #f0f8ff;border: 1px dotted black;border-radius: 0.25em;box-sizing: border-box;margin-bottom: 0.5em;}#sk-container-id-2 div.sk-estimator:hover {background-color: #d4ebff;}#sk-container-id-2 div.sk-parallel-item::after {content: \"\";width: 100%;border-bottom: 1px solid gray;flex-grow: 1;}#sk-container-id-2 div.sk-label:hover label.sk-toggleable__label {background-color: #d4ebff;}#sk-container-id-2 div.sk-serial::before {content: \"\";position: absolute;border-left: 1px solid gray;box-sizing: border-box;top: 0;bottom: 0;left: 50%;z-index: 0;}#sk-container-id-2 div.sk-serial {display: flex;flex-direction: column;align-items: center;background-color: white;padding-right: 0.2em;padding-left: 0.2em;position: relative;}#sk-container-id-2 div.sk-item {position: relative;z-index: 1;}#sk-container-id-2 div.sk-parallel {display: flex;align-items: stretch;justify-content: center;background-color: white;position: relative;}#sk-container-id-2 div.sk-item::before, #sk-container-id-2 div.sk-parallel-item::before {content: \"\";position: absolute;border-left: 1px solid gray;box-sizing: border-box;top: 0;bottom: 0;left: 50%;z-index: -1;}#sk-container-id-2 div.sk-parallel-item {display: flex;flex-direction: column;z-index: 1;position: relative;background-color: white;}#sk-container-id-2 div.sk-parallel-item:first-child::after {align-self: flex-end;width: 50%;}#sk-container-id-2 div.sk-parallel-item:last-child::after {align-self: flex-start;width: 50%;}#sk-container-id-2 div.sk-parallel-item:only-child::after {width: 0;}#sk-container-id-2 div.sk-dashed-wrapped {border: 1px dashed gray;margin: 0 0.4em 0.5em 0.4em;box-sizing: border-box;padding-bottom: 0.4em;background-color: white;}#sk-container-id-2 div.sk-label label {font-family: monospace;font-weight: bold;display: inline-block;line-height: 1.2em;}#sk-container-id-2 div.sk-label-container {text-align: center;}#sk-container-id-2 div.sk-container {/* jupyter's `normalize.less` sets `[hidden] { display: none; }` but bootstrap.min.css set `[hidden] { display: none !important; }` so we also need the `!important` here to be able to override the default hidden behavior on the sphinx rendered scikit-learn.org. See: https://github.com/scikit-learn/scikit-learn/issues/21755 */display: inline-block !important;position: relative;}#sk-container-id-2 div.sk-text-repr-fallback {display: none;}</style><div id=\"sk-container-id-2\" class=\"sk-top-container\"><div class=\"sk-text-repr-fallback\"><pre>RandomForestClassifier(max_depth=8, max_features=&#x27;auto&#x27;, n_estimators=500,\n",
       "                       n_jobs=-1, oob_score=True, random_state=42)</pre><b>In a Jupyter environment, please rerun this cell to show the HTML representation or trust the notebook. <br />On GitHub, the HTML representation is unable to render, please try loading this page with nbviewer.org.</b></div><div class=\"sk-container\" hidden><div class=\"sk-item\"><div class=\"sk-estimator sk-toggleable\"><input class=\"sk-toggleable__control sk-hidden--visually\" id=\"sk-estimator-id-4\" type=\"checkbox\" checked><label for=\"sk-estimator-id-4\" class=\"sk-toggleable__label sk-toggleable__label-arrow\">RandomForestClassifier</label><div class=\"sk-toggleable__content\"><pre>RandomForestClassifier(max_depth=8, max_features=&#x27;auto&#x27;, n_estimators=500,\n",
       "                       n_jobs=-1, oob_score=True, random_state=42)</pre></div></div></div></div></div>"
      ],
      "text/plain": [
       "RandomForestClassifier(max_depth=8, max_features='auto', n_estimators=500,\n",
       "                       n_jobs=-1, oob_score=True, random_state=42)"
      ]
     },
     "execution_count": 36,
     "metadata": {},
     "output_type": "execute_result"
    }
   ],
   "source": [
    "rfc1.fit(X_train, y_train)"
   ]
  },
  {
   "cell_type": "code",
   "execution_count": 37,
   "id": "bb82b286",
   "metadata": {},
   "outputs": [],
   "source": [
    "rcf_pred = rfc1.predict(X_test)"
   ]
  },
  {
   "cell_type": "code",
   "execution_count": 38,
   "id": "cd709037",
   "metadata": {},
   "outputs": [
    {
     "name": "stdout",
     "output_type": "stream",
     "text": [
      "Accuracy for Random Forest on CV data:  0.2739651416122004\n"
     ]
    }
   ],
   "source": [
    "print(\"Accuracy for Random Forest on CV data: \",accuracy_score(y_test,rcf_pred))"
   ]
  },
  {
   "cell_type": "code",
   "execution_count": null,
   "id": "ca8371c8",
   "metadata": {},
   "outputs": [],
   "source": []
  }
 ],
 "metadata": {
  "kernelspec": {
   "display_name": "Python 3 (ipykernel)",
   "language": "python",
   "name": "python3"
  },
  "language_info": {
   "codemirror_mode": {
    "name": "ipython",
    "version": 3
   },
   "file_extension": ".py",
   "mimetype": "text/x-python",
   "name": "python",
   "nbconvert_exporter": "python",
   "pygments_lexer": "ipython3",
   "version": "3.10.4"
  }
 },
 "nbformat": 4,
 "nbformat_minor": 5
}
