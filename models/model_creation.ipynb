{
 "cells": [
  {
   "cell_type": "markdown",
   "metadata": {},
   "source": [
    "Random Forest Regression R2, MAE, MSE, RMSE Mean signed difference\n",
    "Simple Regression Tree\n",
    "Linear Regression\n",
    "Naive Bayes & Logistic Regression for predicting the rating_class for movies\n"
   ]
  },
  {
   "cell_type": "markdown",
   "metadata": {},
   "source": [
    "Load libraries"
   ]
  },
  {
   "cell_type": "code",
   "execution_count": 14,
   "metadata": {},
   "outputs": [],
   "source": [
    "# standard libraries\n",
    "import numpy as np\n",
    "import pandas as pd\n",
    "import matplotlib as plt\n",
    "from statistics import mean\n",
    "from sklearn.preprocessing import StandardScaler\n",
    "from sklearn.model_selection import KFold, GridSearchCV\n",
    "from sklearn.metrics import accuracy_score, roc_auc_score, f1_score, mean_absolute_error, mean_squared_error, r2_score\n",
    "\n",
    "# binary classification\n",
    "from sklearn.linear_model import LogisticRegression\n",
    "from sklearn.naive_bayes import GaussianNB\n",
    "from sklearn.svm import SVC\n",
    "from sklearn.ensemble import RandomForestClassifier\n",
    "from catboost import CatBoostClassifier\n",
    "\n",
    "# regression\n",
    "from sklearn.linear_model import LinearRegression\n",
    "from sklearn.linear_model import Lasso\n",
    "from sklearn.svm import SVR\n",
    "from sklearn.ensemble import RandomForestRegressor\n",
    "from catboost import CatBoostRegressor\n",
    "\n",
    "# never forget to supress warnings\n",
    "import warnings\n",
    "warnings.filterwarnings('ignore')"
   ]
  },
  {
   "cell_type": "markdown",
   "metadata": {},
   "source": [
    "import dataframe"
   ]
  },
  {
   "cell_type": "code",
   "execution_count": 15,
   "metadata": {},
   "outputs": [],
   "source": [
    "movies = pd.read_csv('movies_final.csv', index_col=0)"
   ]
  },
  {
   "cell_type": "code",
   "execution_count": 16,
   "metadata": {},
   "outputs": [
    {
     "name": "stdout",
     "output_type": "stream",
     "text": [
      "<class 'pandas.core.frame.DataFrame'>\n",
      "Int64Index: 218426 entries, 0 to 218425\n",
      "Columns: 145 entries, tconst to Bappi Lahiri\n",
      "dtypes: float64(5), int64(138), object(2)\n",
      "memory usage: 243.3+ MB\n"
     ]
    }
   ],
   "source": [
    "movies.info()"
   ]
  },
  {
   "cell_type": "code",
   "execution_count": 20,
   "metadata": {},
   "outputs": [],
   "source": [
    "# Dropping the movie name from df_clean\n",
    "movies.drop(columns = ['tconst', 'primaryTitle'] , inplace=True)"
   ]
  },
  {
   "cell_type": "code",
   "execution_count": 21,
   "metadata": {},
   "outputs": [
    {
     "data": {
      "text/plain": [
       "Index(['startYear', 'runtimeMinutes', 'averageRating', 'numVotes',\n",
       "       'isOriginal', 'isReRelease', 'isReReleasedInFuture', 'movieAge',\n",
       "       'masterGenres_Romance', 'masterGenres_Adventure',\n",
       "       ...\n",
       "       'Fu-Liang Chou', 'Antonio Díaz Conde', 'Georges Delerue',\n",
       "       'Yung-Yu Chen', 'Carlo Rustichelli', 'Stelvio Cipriani',\n",
       "       'Rahul Dev Burman', 'Riz Ortolani', 'Sven Gyldmark', 'Bappi Lahiri'],\n",
       "      dtype='object', length=143)"
      ]
     },
     "execution_count": 21,
     "metadata": {},
     "output_type": "execute_result"
    }
   ],
   "source": [
    "movies.columns"
   ]
  },
  {
   "cell_type": "code",
   "execution_count": 22,
   "metadata": {},
   "outputs": [
    {
     "data": {
      "text/plain": [
       "'min year is: 1894, max year is: 2022'"
      ]
     },
     "execution_count": 22,
     "metadata": {},
     "output_type": "execute_result"
    }
   ],
   "source": [
    "f\"min year is: {movies.startYear.min()}, max year is: {movies.startYear.max()}\""
   ]
  },
  {
   "cell_type": "markdown",
   "metadata": {},
   "source": [
    "Model Selection \n",
    "\n",
    "Looking to predict Y variable (averageRating) which single-point decimal float between 0.0 and 10.0\n",
    "\n",
    "Import things to note:\n",
    "\n",
    "* Hyperparameter Tuning: Need to perform hyperparameter tuning to seek the ideal hyperparameters for each model.\n",
    "* K-Fold Validation vs train-test split: Depending on time will do train test compared / k-fold. If dataset was smaller I would be forced to do kfold\n",
    "* Metric Validation: Ensure models perform effectively be comparing them with proper validation metrics.\n",
    "* Feature Scaling (Optional): Depending on the algorithm, I or may not need to perform a feature scaling on the dataset."
   ]
  },
  {
   "cell_type": "code",
   "execution_count": null,
   "metadata": {},
   "outputs": [],
   "source": [
    "# create label classifications\n",
    "# Naive bayes and logistic rating of a movie is essentially assigned a class value as follows:\n",
    "# Class 1: rating between 0 and 2\n",
    "# Class 2: rating between 2 and 4\n",
    "# class 3: rating between 3 and 6\n",
    "# Class 4: Rating between 8 and 10\n",
    "\n"
   ]
  }
 ],
 "metadata": {
  "kernelspec": {
   "display_name": "Python 3.10.4 ('venv': venv)",
   "language": "python",
   "name": "python3"
  },
  "language_info": {
   "codemirror_mode": {
    "name": "ipython",
    "version": 3
   },
   "file_extension": ".py",
   "mimetype": "text/x-python",
   "name": "python",
   "nbconvert_exporter": "python",
   "pygments_lexer": "ipython3",
   "version": "3.10.4"
  },
  "orig_nbformat": 4,
  "vscode": {
   "interpreter": {
    "hash": "c150e7d952974b0b48e85d65a861b34f5ef0c182bde4124b2a613a1ec8504d97"
   }
  }
 },
 "nbformat": 4,
 "nbformat_minor": 2
}
